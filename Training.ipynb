{
 "cells": [
  {
   "cell_type": "code",
   "execution_count": 17,
   "outputs": [
    {
     "data": {
      "text/plain": "'\\nIn addition, the following videos were used to create and train the model, sources can be found in the README file:\\nCredit to Nolan R. (n.d.) for one-hot encoding used to split features.\\nCredit to Smith B. for his work in training and evaluating models. \\n'"
     },
     "execution_count": 17,
     "metadata": {},
     "output_type": "execute_result"
    }
   ],
   "source": [
    "#The following citation is requested by Scikit learn for use of its product:\n",
    "\"\"\"\n",
    "@article{scikit-learn,\n",
    " title={Scikit-learn: Machine Learning in {P}ython},\n",
    " author={Pedregosa, F. and Varoquaux, G. and Gramfort, A. and Michel, V.\n",
    "         and Thirion, B. and Grisel, O. and Blondel, M. and Prettenhofer, P.\n",
    "         and Weiss, R. and Dubourg, V. and Vanderplas, J. and Passos, A. and\n",
    "         Cournapeau, D. and Brucher, M. and Perrot, M. and Duchesnay, E.},\n",
    " journal={Journal of Machine Learning Research},\n",
    " volume={12},\n",
    " pages={2825--2830},\n",
    " year={2011}\n",
    "}\n",
    "\"\"\"\n",
    "\"\"\"\n",
    "In addition, the following videos were used to create and train the model, sources can be found in the README file:\n",
    "Credit to Nolan R. (n.d.) for one-hot encoding used to split features.\n",
    "Credit to Smith B. for his work in training and evaluating models. \n",
    "\"\"\""
   ],
   "metadata": {
    "collapsed": false,
    "ExecuteTime": {
     "end_time": "2023-11-05T19:32:48.526050100Z",
     "start_time": "2023-11-05T19:32:48.481890700Z"
    }
   },
   "id": "c32befc19bfdd304"
  },
  {
   "cell_type": "code",
   "execution_count": 18,
   "outputs": [],
   "source": [
    "import pandas as pd\n",
    "import matplotlib.pyplot as plt\n",
    "import numpy as np\n",
    "from sklearn.ensemble import RandomForestClassifier\n",
    "from sklearn.neural_network import MLPClassifier\n",
    "from sklearn.linear_model import LogisticRegression\n",
    "from sklearn.metrics import roc_auc_score, accuracy_score, mean_squared_error\n",
    "from sklearn.model_selection import train_test_split, cross_val_score\n",
    "from sklearn.preprocessing import OneHotEncoder"
   ],
   "metadata": {
    "collapsed": false,
    "ExecuteTime": {
     "end_time": "2023-11-05T19:32:48.560701400Z",
     "start_time": "2023-11-05T19:32:48.497493Z"
    }
   },
   "id": "initial_id"
  },
  {
   "cell_type": "code",
   "execution_count": 19,
   "outputs": [
    {
     "data": {
      "text/plain": "      Cholesterol_0  Cholesterol_1  Cholesterol_2  Heart Rate_0  Heart Rate_1  \\\n0               0.0            1.0            0.0           0.0           1.0   \n1               0.0            0.0            1.0           0.0           1.0   \n2               0.0            0.0            1.0           0.0           1.0   \n3               0.0            0.0            1.0           0.0           1.0   \n4               0.0            0.0            1.0           0.0           1.0   \n...             ...            ...            ...           ...           ...   \n8758            1.0            0.0            0.0           0.0           1.0   \n8759            1.0            0.0            0.0           0.0           1.0   \n8760            0.0            0.0            1.0           0.0           0.0   \n8761            1.0            0.0            0.0           0.0           1.0   \n8762            0.0            0.0            1.0           0.0           1.0   \n\n      Heart Rate_2  Diet_0  Diet_1  Diet_2  Income_0  ...  Income_3  Income_4  \\\n0              0.0     0.0     1.0     0.0       0.0  ...       0.0       1.0   \n1              0.0     1.0     0.0     0.0       0.0  ...       0.0       1.0   \n2              0.0     0.0     0.0     1.0       0.0  ...       0.0       1.0   \n3              0.0     0.0     1.0     0.0       0.0  ...       1.0       0.0   \n4              0.0     1.0     0.0     0.0       0.0  ...       0.0       1.0   \n...            ...     ...     ...     ...       ...  ...       ...       ...   \n8758           0.0     0.0     0.0     1.0       0.0  ...       0.0       1.0   \n8759           0.0     0.0     0.0     1.0       0.0  ...       0.0       1.0   \n8760           1.0     0.0     1.0     0.0       0.0  ...       0.0       0.0   \n8761           0.0     1.0     0.0     0.0       0.0  ...       0.0       1.0   \n8762           0.0     0.0     0.0     1.0       0.0  ...       0.0       1.0   \n\n      BMI_0  BMI_1  BMI_2  BMI_3  BMI_4  Triglycerides_0  Triglycerides_1  \\\n0       0.0    0.0    0.0    1.0    0.0              0.0              0.0   \n1       0.0    0.0    1.0    0.0    0.0              0.0              0.0   \n2       0.0    0.0    1.0    0.0    0.0              0.0              0.0   \n3       0.0    0.0    0.0    1.0    0.0              0.0              0.0   \n4       0.0    1.0    0.0    0.0    0.0              0.0              0.0   \n...     ...    ...    ...    ...    ...              ...              ...   \n8758    0.0    1.0    0.0    0.0    0.0              1.0              0.0   \n8759    0.0    1.0    0.0    0.0    0.0              0.0              0.0   \n8760    0.0    0.0    0.0    1.0    0.0              0.0              0.0   \n8761    0.0    0.0    1.0    0.0    0.0              1.0              0.0   \n8762    0.0    0.0    0.0    1.0    0.0              0.0              1.0   \n\n      Triglycerides_2  \n0                 1.0  \n1                 1.0  \n2                 1.0  \n3                 1.0  \n4                 1.0  \n...               ...  \n8758              0.0  \n8759              1.0  \n8760              1.0  \n8761              0.0  \n8762              0.0  \n\n[8763 rows x 22 columns]",
      "text/html": "<div>\n<style scoped>\n    .dataframe tbody tr th:only-of-type {\n        vertical-align: middle;\n    }\n\n    .dataframe tbody tr th {\n        vertical-align: top;\n    }\n\n    .dataframe thead th {\n        text-align: right;\n    }\n</style>\n<table border=\"1\" class=\"dataframe\">\n  <thead>\n    <tr style=\"text-align: right;\">\n      <th></th>\n      <th>Cholesterol_0</th>\n      <th>Cholesterol_1</th>\n      <th>Cholesterol_2</th>\n      <th>Heart Rate_0</th>\n      <th>Heart Rate_1</th>\n      <th>Heart Rate_2</th>\n      <th>Diet_0</th>\n      <th>Diet_1</th>\n      <th>Diet_2</th>\n      <th>Income_0</th>\n      <th>...</th>\n      <th>Income_3</th>\n      <th>Income_4</th>\n      <th>BMI_0</th>\n      <th>BMI_1</th>\n      <th>BMI_2</th>\n      <th>BMI_3</th>\n      <th>BMI_4</th>\n      <th>Triglycerides_0</th>\n      <th>Triglycerides_1</th>\n      <th>Triglycerides_2</th>\n    </tr>\n  </thead>\n  <tbody>\n    <tr>\n      <th>0</th>\n      <td>0.0</td>\n      <td>1.0</td>\n      <td>0.0</td>\n      <td>0.0</td>\n      <td>1.0</td>\n      <td>0.0</td>\n      <td>0.0</td>\n      <td>1.0</td>\n      <td>0.0</td>\n      <td>0.0</td>\n      <td>...</td>\n      <td>0.0</td>\n      <td>1.0</td>\n      <td>0.0</td>\n      <td>0.0</td>\n      <td>0.0</td>\n      <td>1.0</td>\n      <td>0.0</td>\n      <td>0.0</td>\n      <td>0.0</td>\n      <td>1.0</td>\n    </tr>\n    <tr>\n      <th>1</th>\n      <td>0.0</td>\n      <td>0.0</td>\n      <td>1.0</td>\n      <td>0.0</td>\n      <td>1.0</td>\n      <td>0.0</td>\n      <td>1.0</td>\n      <td>0.0</td>\n      <td>0.0</td>\n      <td>0.0</td>\n      <td>...</td>\n      <td>0.0</td>\n      <td>1.0</td>\n      <td>0.0</td>\n      <td>0.0</td>\n      <td>1.0</td>\n      <td>0.0</td>\n      <td>0.0</td>\n      <td>0.0</td>\n      <td>0.0</td>\n      <td>1.0</td>\n    </tr>\n    <tr>\n      <th>2</th>\n      <td>0.0</td>\n      <td>0.0</td>\n      <td>1.0</td>\n      <td>0.0</td>\n      <td>1.0</td>\n      <td>0.0</td>\n      <td>0.0</td>\n      <td>0.0</td>\n      <td>1.0</td>\n      <td>0.0</td>\n      <td>...</td>\n      <td>0.0</td>\n      <td>1.0</td>\n      <td>0.0</td>\n      <td>0.0</td>\n      <td>1.0</td>\n      <td>0.0</td>\n      <td>0.0</td>\n      <td>0.0</td>\n      <td>0.0</td>\n      <td>1.0</td>\n    </tr>\n    <tr>\n      <th>3</th>\n      <td>0.0</td>\n      <td>0.0</td>\n      <td>1.0</td>\n      <td>0.0</td>\n      <td>1.0</td>\n      <td>0.0</td>\n      <td>0.0</td>\n      <td>1.0</td>\n      <td>0.0</td>\n      <td>0.0</td>\n      <td>...</td>\n      <td>1.0</td>\n      <td>0.0</td>\n      <td>0.0</td>\n      <td>0.0</td>\n      <td>0.0</td>\n      <td>1.0</td>\n      <td>0.0</td>\n      <td>0.0</td>\n      <td>0.0</td>\n      <td>1.0</td>\n    </tr>\n    <tr>\n      <th>4</th>\n      <td>0.0</td>\n      <td>0.0</td>\n      <td>1.0</td>\n      <td>0.0</td>\n      <td>1.0</td>\n      <td>0.0</td>\n      <td>1.0</td>\n      <td>0.0</td>\n      <td>0.0</td>\n      <td>0.0</td>\n      <td>...</td>\n      <td>0.0</td>\n      <td>1.0</td>\n      <td>0.0</td>\n      <td>1.0</td>\n      <td>0.0</td>\n      <td>0.0</td>\n      <td>0.0</td>\n      <td>0.0</td>\n      <td>0.0</td>\n      <td>1.0</td>\n    </tr>\n    <tr>\n      <th>...</th>\n      <td>...</td>\n      <td>...</td>\n      <td>...</td>\n      <td>...</td>\n      <td>...</td>\n      <td>...</td>\n      <td>...</td>\n      <td>...</td>\n      <td>...</td>\n      <td>...</td>\n      <td>...</td>\n      <td>...</td>\n      <td>...</td>\n      <td>...</td>\n      <td>...</td>\n      <td>...</td>\n      <td>...</td>\n      <td>...</td>\n      <td>...</td>\n      <td>...</td>\n      <td>...</td>\n    </tr>\n    <tr>\n      <th>8758</th>\n      <td>1.0</td>\n      <td>0.0</td>\n      <td>0.0</td>\n      <td>0.0</td>\n      <td>1.0</td>\n      <td>0.0</td>\n      <td>0.0</td>\n      <td>0.0</td>\n      <td>1.0</td>\n      <td>0.0</td>\n      <td>...</td>\n      <td>0.0</td>\n      <td>1.0</td>\n      <td>0.0</td>\n      <td>1.0</td>\n      <td>0.0</td>\n      <td>0.0</td>\n      <td>0.0</td>\n      <td>1.0</td>\n      <td>0.0</td>\n      <td>0.0</td>\n    </tr>\n    <tr>\n      <th>8759</th>\n      <td>1.0</td>\n      <td>0.0</td>\n      <td>0.0</td>\n      <td>0.0</td>\n      <td>1.0</td>\n      <td>0.0</td>\n      <td>0.0</td>\n      <td>0.0</td>\n      <td>1.0</td>\n      <td>0.0</td>\n      <td>...</td>\n      <td>0.0</td>\n      <td>1.0</td>\n      <td>0.0</td>\n      <td>1.0</td>\n      <td>0.0</td>\n      <td>0.0</td>\n      <td>0.0</td>\n      <td>0.0</td>\n      <td>0.0</td>\n      <td>1.0</td>\n    </tr>\n    <tr>\n      <th>8760</th>\n      <td>0.0</td>\n      <td>0.0</td>\n      <td>1.0</td>\n      <td>0.0</td>\n      <td>0.0</td>\n      <td>1.0</td>\n      <td>0.0</td>\n      <td>1.0</td>\n      <td>0.0</td>\n      <td>0.0</td>\n      <td>...</td>\n      <td>0.0</td>\n      <td>0.0</td>\n      <td>0.0</td>\n      <td>0.0</td>\n      <td>0.0</td>\n      <td>1.0</td>\n      <td>0.0</td>\n      <td>0.0</td>\n      <td>0.0</td>\n      <td>1.0</td>\n    </tr>\n    <tr>\n      <th>8761</th>\n      <td>1.0</td>\n      <td>0.0</td>\n      <td>0.0</td>\n      <td>0.0</td>\n      <td>1.0</td>\n      <td>0.0</td>\n      <td>1.0</td>\n      <td>0.0</td>\n      <td>0.0</td>\n      <td>0.0</td>\n      <td>...</td>\n      <td>0.0</td>\n      <td>1.0</td>\n      <td>0.0</td>\n      <td>0.0</td>\n      <td>1.0</td>\n      <td>0.0</td>\n      <td>0.0</td>\n      <td>1.0</td>\n      <td>0.0</td>\n      <td>0.0</td>\n    </tr>\n    <tr>\n      <th>8762</th>\n      <td>0.0</td>\n      <td>0.0</td>\n      <td>1.0</td>\n      <td>0.0</td>\n      <td>1.0</td>\n      <td>0.0</td>\n      <td>0.0</td>\n      <td>0.0</td>\n      <td>1.0</td>\n      <td>0.0</td>\n      <td>...</td>\n      <td>0.0</td>\n      <td>1.0</td>\n      <td>0.0</td>\n      <td>0.0</td>\n      <td>0.0</td>\n      <td>1.0</td>\n      <td>0.0</td>\n      <td>0.0</td>\n      <td>1.0</td>\n      <td>0.0</td>\n    </tr>\n  </tbody>\n</table>\n<p>8763 rows × 22 columns</p>\n</div>"
     },
     "execution_count": 19,
     "metadata": {},
     "output_type": "execute_result"
    }
   ],
   "source": [
    "heart = pd.read_csv(\"heart_risk_cleaned.csv\")\n",
    "heart = heart.drop(columns=[\"Patient ID\"])\n",
    "ohe = OneHotEncoder(handle_unknown=\"ignore\", sparse_output=False).set_output(transform=\"pandas\")\n",
    "ohetransform = ohe.fit_transform(heart[['Cholesterol', 'Heart Rate', 'Diet', 'Income', 'BMI', 'Triglycerides']])\n",
    "\n",
    "ohetransform\n"
   ],
   "metadata": {
    "collapsed": false,
    "ExecuteTime": {
     "end_time": "2023-11-05T19:32:48.825584300Z",
     "start_time": "2023-11-05T19:32:48.514054500Z"
    }
   },
   "id": "33682be5605f6c8a"
  },
  {
   "cell_type": "code",
   "execution_count": 20,
   "outputs": [
    {
     "data": {
      "text/plain": "   Age  Sex  Hypertension  Diabetes  Family History  Smoking  \\\n0    1    1             1         0               0        1   \n1    0    1             1         1               1        1   \n2    0    0             1         1               0        0   \n3    1    1             1         1               1        1   \n4    1    1             0         1               1        1   \n\n   Alcohol Consumption  Exercise Hours Per Week  Previous Heart Problems  \\\n0                    0                        1                        0   \n1                    1                        0                        1   \n2                    0                        0                        1   \n3                    1                        1                        1   \n4                    0                        1                        1   \n\n   Stress Level  ...  Income_4  BMI_0  BMI_1  BMI_2  BMI_3  BMI_4  \\\n0             1  ...       1.0    0.0    0.0    0.0    1.0    0.0   \n1             0  ...       1.0    0.0    0.0    1.0    0.0    0.0   \n2             1  ...       1.0    0.0    0.0    1.0    0.0    0.0   \n3             1  ...       0.0    0.0    0.0    0.0    1.0    0.0   \n4             1  ...       1.0    0.0    1.0    0.0    0.0    0.0   \n\n   Triglycerides_0  Triglycerides_1  Triglycerides_2  Heart Attack Risk  \n0              0.0              0.0              1.0                  0  \n1              0.0              0.0              1.0                  0  \n2              0.0              0.0              1.0                  0  \n3              0.0              0.0              1.0                  0  \n4              0.0              0.0              1.0                  0  \n\n[5 rows x 35 columns]",
      "text/html": "<div>\n<style scoped>\n    .dataframe tbody tr th:only-of-type {\n        vertical-align: middle;\n    }\n\n    .dataframe tbody tr th {\n        vertical-align: top;\n    }\n\n    .dataframe thead th {\n        text-align: right;\n    }\n</style>\n<table border=\"1\" class=\"dataframe\">\n  <thead>\n    <tr style=\"text-align: right;\">\n      <th></th>\n      <th>Age</th>\n      <th>Sex</th>\n      <th>Hypertension</th>\n      <th>Diabetes</th>\n      <th>Family History</th>\n      <th>Smoking</th>\n      <th>Alcohol Consumption</th>\n      <th>Exercise Hours Per Week</th>\n      <th>Previous Heart Problems</th>\n      <th>Stress Level</th>\n      <th>...</th>\n      <th>Income_4</th>\n      <th>BMI_0</th>\n      <th>BMI_1</th>\n      <th>BMI_2</th>\n      <th>BMI_3</th>\n      <th>BMI_4</th>\n      <th>Triglycerides_0</th>\n      <th>Triglycerides_1</th>\n      <th>Triglycerides_2</th>\n      <th>Heart Attack Risk</th>\n    </tr>\n  </thead>\n  <tbody>\n    <tr>\n      <th>0</th>\n      <td>1</td>\n      <td>1</td>\n      <td>1</td>\n      <td>0</td>\n      <td>0</td>\n      <td>1</td>\n      <td>0</td>\n      <td>1</td>\n      <td>0</td>\n      <td>1</td>\n      <td>...</td>\n      <td>1.0</td>\n      <td>0.0</td>\n      <td>0.0</td>\n      <td>0.0</td>\n      <td>1.0</td>\n      <td>0.0</td>\n      <td>0.0</td>\n      <td>0.0</td>\n      <td>1.0</td>\n      <td>0</td>\n    </tr>\n    <tr>\n      <th>1</th>\n      <td>0</td>\n      <td>1</td>\n      <td>1</td>\n      <td>1</td>\n      <td>1</td>\n      <td>1</td>\n      <td>1</td>\n      <td>0</td>\n      <td>1</td>\n      <td>0</td>\n      <td>...</td>\n      <td>1.0</td>\n      <td>0.0</td>\n      <td>0.0</td>\n      <td>1.0</td>\n      <td>0.0</td>\n      <td>0.0</td>\n      <td>0.0</td>\n      <td>0.0</td>\n      <td>1.0</td>\n      <td>0</td>\n    </tr>\n    <tr>\n      <th>2</th>\n      <td>0</td>\n      <td>0</td>\n      <td>1</td>\n      <td>1</td>\n      <td>0</td>\n      <td>0</td>\n      <td>0</td>\n      <td>0</td>\n      <td>1</td>\n      <td>1</td>\n      <td>...</td>\n      <td>1.0</td>\n      <td>0.0</td>\n      <td>0.0</td>\n      <td>1.0</td>\n      <td>0.0</td>\n      <td>0.0</td>\n      <td>0.0</td>\n      <td>0.0</td>\n      <td>1.0</td>\n      <td>0</td>\n    </tr>\n    <tr>\n      <th>3</th>\n      <td>1</td>\n      <td>1</td>\n      <td>1</td>\n      <td>1</td>\n      <td>1</td>\n      <td>1</td>\n      <td>1</td>\n      <td>1</td>\n      <td>1</td>\n      <td>1</td>\n      <td>...</td>\n      <td>0.0</td>\n      <td>0.0</td>\n      <td>0.0</td>\n      <td>0.0</td>\n      <td>1.0</td>\n      <td>0.0</td>\n      <td>0.0</td>\n      <td>0.0</td>\n      <td>1.0</td>\n      <td>0</td>\n    </tr>\n    <tr>\n      <th>4</th>\n      <td>1</td>\n      <td>1</td>\n      <td>0</td>\n      <td>1</td>\n      <td>1</td>\n      <td>1</td>\n      <td>0</td>\n      <td>1</td>\n      <td>1</td>\n      <td>1</td>\n      <td>...</td>\n      <td>1.0</td>\n      <td>0.0</td>\n      <td>1.0</td>\n      <td>0.0</td>\n      <td>0.0</td>\n      <td>0.0</td>\n      <td>0.0</td>\n      <td>0.0</td>\n      <td>1.0</td>\n      <td>0</td>\n    </tr>\n  </tbody>\n</table>\n<p>5 rows × 35 columns</p>\n</div>"
     },
     "execution_count": 20,
     "metadata": {},
     "output_type": "execute_result"
    }
   ],
   "source": [
    "heart = pd.concat([heart, ohetransform], axis=1).drop(columns=['Cholesterol', 'Heart Rate', 'Diet', 'Income', 'BMI', 'Triglycerides'])\n",
    "heart.insert(34, \"Heart Attack Risk\", heart.pop(\"Heart Attack Risk\"))\n",
    "heart.head()"
   ],
   "metadata": {
    "collapsed": false,
    "ExecuteTime": {
     "end_time": "2023-11-05T19:32:48.871373300Z",
     "start_time": "2023-11-05T19:32:48.823068200Z"
    }
   },
   "id": "88607040f0f431c1"
  },
  {
   "cell_type": "code",
   "execution_count": 21,
   "outputs": [],
   "source": [
    "LRclass = LogisticRegression()"
   ],
   "metadata": {
    "collapsed": false,
    "ExecuteTime": {
     "end_time": "2023-11-05T19:32:48.927960400Z",
     "start_time": "2023-11-05T19:32:48.854794300Z"
    }
   },
   "id": "cc558fc59c9ff94a"
  },
  {
   "cell_type": "code",
   "execution_count": 22,
   "outputs": [],
   "source": [
    "# Split into features (predictors) and target/label\n",
    "#using PANDAS\n",
    "\n",
    "heart_feat = heart.iloc[:, 0:34] #split into features, the things we want to input\n",
    "\n",
    "heart_targ = heart.iloc[:, 34] # split into target, this is the thing we are looking to check given all inputs"
   ],
   "metadata": {
    "collapsed": false,
    "ExecuteTime": {
     "end_time": "2023-11-05T19:32:48.950022700Z",
     "start_time": "2023-11-05T19:32:48.869375500Z"
    }
   },
   "id": "b5d658aae497a046"
  },
  {
   "cell_type": "code",
   "execution_count": 23,
   "outputs": [
    {
     "name": "stdout",
     "output_type": "stream",
     "text": [
      "LR classifier roc_auc score: 0.5\n",
      "LR classifier accuracy score: 0.630062749572162\n",
      "LR MSE: 0.369937250427838\n"
     ]
    }
   ],
   "source": [
    "#train test split\n",
    "heartTrainX, heartTestX, heartTrainY, heartTestY = train_test_split(heart_feat, heart_targ, test_size=0.4)\n",
    "\n",
    "#fit training data. Train models on training data\n",
    "\n",
    "\n",
    "LRclass.fit(heartTrainX, heartTrainY)\n",
    "\n",
    "# Carry out predictions on test dataset\n",
    "\n",
    "\n",
    "LRpredHeart = LRclass.predict(heartTestX)\n",
    "\n",
    "# Error metrics using roc_auc score\n",
    "print(\"LR classifier roc_auc score:\" ,roc_auc_score(heartTestY, LRpredHeart))\n",
    "\n",
    "# Error Metrics using accuracy score\n",
    "\n",
    "\n",
    "print(\"LR classifier accuracy score:\" ,accuracy_score(heartTestY, LRpredHeart))\n",
    "\n",
    "# Error Metrics using Mean Square Error\n",
    "\n",
    "print(\"LR MSE:\" ,mean_squared_error(heartTestY, LRpredHeart))"
   ],
   "metadata": {
    "collapsed": false,
    "ExecuteTime": {
     "end_time": "2023-11-05T19:32:49.016162300Z",
     "start_time": "2023-11-05T19:32:48.886755800Z"
    }
   },
   "id": "3533348c5e565412"
  },
  {
   "cell_type": "code",
   "execution_count": 24,
   "outputs": [
    {
     "name": "stdout",
     "output_type": "stream",
     "text": [
      "MSE of LR model using k-fold CV: 0.3582106473703267\n"
     ]
    }
   ],
   "source": [
    "#K-Fold Cross validation\n",
    "print(\"MSE of LR model using k-fold CV:\", -cross_val_score(LRclass, heart_feat, heart_targ.ravel(), cv=5, scoring=\"neg_mean_squared_error\").mean())\n"
   ],
   "metadata": {
    "collapsed": false,
    "ExecuteTime": {
     "end_time": "2023-11-05T19:32:49.194327600Z",
     "start_time": "2023-11-05T19:32:48.949023400Z"
    }
   },
   "id": "ca1616d82aa52851"
  },
  {
   "cell_type": "code",
   "execution_count": 25,
   "outputs": [],
   "source": [
    "#Evaluation of models\n",
    "LRTT = []\n",
    "for i in range(10):\n",
    "        #train test split\n",
    "    heartTrainX, heartTestX, heartTrainY, heartTestY = train_test_split(heart_feat, heart_targ, test_size=0.4)\n",
    "\n",
    "    #fit training data. Train models on training data\n",
    "    LRclass.fit(heartTrainX, heartTrainY)\n",
    "    \n",
    "    # Carry out predictions on test dataset\n",
    "    LRpredHeart = LRclass.predict(heartTestX)\n",
    "    \n",
    "    LRTT.append(mean_squared_error(LRpredHeart, heartTestY))\n",
    "\n"
   ],
   "metadata": {
    "collapsed": false,
    "ExecuteTime": {
     "end_time": "2023-11-05T19:32:49.771638200Z",
     "start_time": "2023-11-05T19:32:49.197337800Z"
    }
   },
   "id": "79c42262d0edd25e"
  },
  {
   "cell_type": "code",
   "execution_count": 26,
   "outputs": [
    {
     "name": "stdout",
     "output_type": "stream",
     "text": [
      "0.36965202509982886\n",
      "0.34455219623502564\n",
      "0.3622361665715916\n",
      "0.35482030804335424\n",
      "0.3642327438676555\n",
      "0.3582430119794638\n",
      "0.3482601254991443\n",
      "0.3605248146035368\n",
      "0.35567598402738165\n",
      "0.3616657159155733\n"
     ]
    },
    {
     "data": {
      "text/plain": "<Figure size 640x480 with 1 Axes>",
      "image/png": "[encoded data removed]"
     },
     "metadata": {},
     "output_type": "display_data"
    }
   ],
   "source": [
    "plt.plot(LRTT, \"-ro\", label= \"LR\")\n",
    "plt.legend(loc= \"best\")\n",
    "for mean in LRTT:\n",
    "    print(mean)"
   ],
   "metadata": {
    "collapsed": false,
    "ExecuteTime": {
     "end_time": "2023-11-05T19:32:49.940909Z",
     "start_time": "2023-11-05T19:32:49.772640300Z"
    }
   },
   "id": "9cdd57e1284496e"
  },
  {
   "cell_type": "code",
   "execution_count": 27,
   "outputs": [
    {
     "name": "stderr",
     "output_type": "stream",
     "text": [
      "C:\\Users\\aljo9\\PycharmProjects\\ML_Project\\venv\\lib\\site-packages\\sklearn\\model_selection\\_search.py:307: UserWarning: The total space of parameters 6 is smaller than n_iter=30. Running 6 iterations. For exhaustive searches, use GridSearchCV.\n",
      "  warnings.warn(\n",
      "C:\\Users\\aljo9\\PycharmProjects\\ML_Project\\venv\\lib\\site-packages\\sklearn\\model_selection\\_validation.py:425: FitFailedWarning: \n",
      "5 fits failed out of a total of 30.\n",
      "The score on these train-test partitions for these parameters will be set to nan.\n",
      "If these failures are not expected, you can try to debug them by setting error_score='raise'.\n",
      "\n",
      "Below are more details about the failures:\n",
      "--------------------------------------------------------------------------------\n",
      "5 fits failed with the following error:\n",
      "Traceback (most recent call last):\n",
      "  File \"C:\\Users\\aljo9\\PycharmProjects\\ML_Project\\venv\\lib\\site-packages\\sklearn\\model_selection\\_validation.py\", line 729, in _fit_and_score\n",
      "    estimator.fit(X_train, y_train, **fit_params)\n",
      "  File \"C:\\Users\\aljo9\\PycharmProjects\\ML_Project\\venv\\lib\\site-packages\\sklearn\\base.py\", line 1152, in wrapper\n",
      "    return fit_method(estimator, *args, **kwargs)\n",
      "  File \"C:\\Users\\aljo9\\PycharmProjects\\ML_Project\\venv\\lib\\site-packages\\sklearn\\linear_model\\_logistic.py\", line 1228, in fit\n",
      "    self.coef_, self.intercept_, self.n_iter_ = _fit_liblinear(\n",
      "  File \"C:\\Users\\aljo9\\PycharmProjects\\ML_Project\\venv\\lib\\site-packages\\sklearn\\svm\\_base.py\", line 1229, in _fit_liblinear\n",
      "    solver_type = _get_liblinear_solver_type(multi_class, penalty, loss, dual)\n",
      "  File \"C:\\Users\\aljo9\\PycharmProjects\\ML_Project\\venv\\lib\\site-packages\\sklearn\\svm\\_base.py\", line 1060, in _get_liblinear_solver_type\n",
      "    raise ValueError(\n",
      "ValueError: Unsupported set of arguments: The combination of penalty='None' and loss='logistic_regression' is not supported, Parameters: penalty=None, loss='logistic_regression', dual=False\n",
      "\n",
      "  warnings.warn(some_fits_failed_message, FitFailedWarning)\n",
      "C:\\Users\\aljo9\\PycharmProjects\\ML_Project\\venv\\lib\\site-packages\\sklearn\\model_selection\\_search.py:979: UserWarning: One or more of the test scores are non-finite: [-0.35821065 -0.35821065 -0.35821065 -0.35821065 -0.35821065         nan]\n",
      "  warnings.warn(\n"
     ]
    },
    {
     "data": {
      "text/plain": "RandomizedSearchCV(cv=5, estimator=LogisticRegression(), n_iter=30, n_jobs=-1,\n                   param_distributions={'penalty': ['l2', None],\n                                        'solver': ['sag', 'saga', 'liblinear']},\n                   scoring='neg_mean_squared_error')",
      "text/html": "<style>#sk-container-id-1 {color: black;}#sk-container-id-1 pre{padding: 0;}#sk-container-id-1 div.sk-toggleable {background-color: white;}#sk-container-id-1 label.sk-toggleable__label {cursor: pointer;display: block;width: 100%;margin-bottom: 0;padding: 0.3em;box-sizing: border-box;text-align: center;}#sk-container-id-1 label.sk-toggleable__label-arrow:before {content: \"▸\";float: left;margin-right: 0.25em;color: #696969;}#sk-container-id-1 label.sk-toggleable__label-arrow:hover:before {color: black;}#sk-container-id-1 div.sk-estimator:hover label.sk-toggleable__label-arrow:before {color: black;}#sk-container-id-1 div.sk-toggleable__content {max-height: 0;max-width: 0;overflow: hidden;text-align: left;background-color: #f0f8ff;}#sk-container-id-1 div.sk-toggleable__content pre {margin: 0.2em;color: black;border-radius: 0.25em;background-color: #f0f8ff;}#sk-container-id-1 input.sk-toggleable__control:checked~div.sk-toggleable__content {max-height: 200px;max-width: 100%;overflow: auto;}#sk-container-id-1 input.sk-toggleable__control:checked~label.sk-toggleable__label-arrow:before {content: \"▾\";}#sk-container-id-1 div.sk-estimator input.sk-toggleable__control:checked~label.sk-toggleable__label {background-color: #d4ebff;}#sk-container-id-1 div.sk-label input.sk-toggleable__control:checked~label.sk-toggleable__label {background-color: #d4ebff;}#sk-container-id-1 input.sk-hidden--visually {border: 0;clip: rect(1px 1px 1px 1px);clip: rect(1px, 1px, 1px, 1px);height: 1px;margin: -1px;overflow: hidden;padding: 0;position: absolute;width: 1px;}#sk-container-id-1 div.sk-estimator {font-family: monospace;background-color: #f0f8ff;border: 1px dotted black;border-radius: 0.25em;box-sizing: border-box;margin-bottom: 0.5em;}#sk-container-id-1 div.sk-estimator:hover {background-color: #d4ebff;}#sk-container-id-1 div.sk-parallel-item::after {content: \"\";width: 100%;border-bottom: 1px solid gray;flex-grow: 1;}#sk-container-id-1 div.sk-label:hover label.sk-toggleable__label {background-color: #d4ebff;}#sk-container-id-1 div.sk-serial::before {content: \"\";position: absolute;border-left: 1px solid gray;box-sizing: border-box;top: 0;bottom: 0;left: 50%;z-index: 0;}#sk-container-id-1 div.sk-serial {display: flex;flex-direction: column;align-items: center;background-color: white;padding-right: 0.2em;padding-left: 0.2em;position: relative;}#sk-container-id-1 div.sk-item {position: relative;z-index: 1;}#sk-container-id-1 div.sk-parallel {display: flex;align-items: stretch;justify-content: center;background-color: white;position: relative;}#sk-container-id-1 div.sk-item::before, #sk-container-id-1 div.sk-parallel-item::before {content: \"\";position: absolute;border-left: 1px solid gray;box-sizing: border-box;top: 0;bottom: 0;left: 50%;z-index: -1;}#sk-container-id-1 div.sk-parallel-item {display: flex;flex-direction: column;z-index: 1;position: relative;background-color: white;}#sk-container-id-1 div.sk-parallel-item:first-child::after {align-self: flex-end;width: 50%;}#sk-container-id-1 div.sk-parallel-item:last-child::after {align-self: flex-start;width: 50%;}#sk-container-id-1 div.sk-parallel-item:only-child::after {width: 0;}#sk-container-id-1 div.sk-dashed-wrapped {border: 1px dashed gray;margin: 0 0.4em 0.5em 0.4em;box-sizing: border-box;padding-bottom: 0.4em;background-color: white;}#sk-container-id-1 div.sk-label label {font-family: monospace;font-weight: bold;display: inline-block;line-height: 1.2em;}#sk-container-id-1 div.sk-label-container {text-align: center;}#sk-container-id-1 div.sk-container {/* jupyter's `normalize.less` sets `[hidden] { display: none; }` but bootstrap.min.css set `[hidden] { display: none !important; }` so we also need the `!important` here to be able to override the default hidden behavior on the sphinx rendered scikit-learn.org. See: https://github.com/scikit-learn/scikit-learn/issues/21755 */display: inline-block !important;position: relative;}#sk-container-id-1 div.sk-text-repr-fallback {display: none;}</style><div id=\"sk-container-id-1\" class=\"sk-top-container\"><div class=\"sk-text-repr-fallback\"><pre>RandomizedSearchCV(cv=5, estimator=LogisticRegression(), n_iter=30, n_jobs=-1,\n                   param_distributions={&#x27;penalty&#x27;: [&#x27;l2&#x27;, None],\n                                        &#x27;solver&#x27;: [&#x27;sag&#x27;, &#x27;saga&#x27;, &#x27;liblinear&#x27;]},\n                   scoring=&#x27;neg_mean_squared_error&#x27;)</pre><b>In a Jupyter environment, please rerun this cell to show the HTML representation or trust the notebook. <br />On GitHub, the HTML representation is unable to render, please try loading this page with nbviewer.org.</b></div><div class=\"sk-container\" hidden><div class=\"sk-item sk-dashed-wrapped\"><div class=\"sk-label-container\"><div class=\"sk-label sk-toggleable\"><input class=\"sk-toggleable__control sk-hidden--visually\" id=\"sk-estimator-id-1\" type=\"checkbox\" ><label for=\"sk-estimator-id-1\" class=\"sk-toggleable__label sk-toggleable__label-arrow\">RandomizedSearchCV</label><div class=\"sk-toggleable__content\"><pre>RandomizedSearchCV(cv=5, estimator=LogisticRegression(), n_iter=30, n_jobs=-1,\n                   param_distributions={&#x27;penalty&#x27;: [&#x27;l2&#x27;, None],\n                                        &#x27;solver&#x27;: [&#x27;sag&#x27;, &#x27;saga&#x27;, &#x27;liblinear&#x27;]},\n                   scoring=&#x27;neg_mean_squared_error&#x27;)</pre></div></div></div><div class=\"sk-parallel\"><div class=\"sk-parallel-item\"><div class=\"sk-item\"><div class=\"sk-label-container\"><div class=\"sk-label sk-toggleable\"><input class=\"sk-toggleable__control sk-hidden--visually\" id=\"sk-estimator-id-2\" type=\"checkbox\" ><label for=\"sk-estimator-id-2\" class=\"sk-toggleable__label sk-toggleable__label-arrow\">estimator: LogisticRegression</label><div class=\"sk-toggleable__content\"><pre>LogisticRegression()</pre></div></div></div><div class=\"sk-serial\"><div class=\"sk-item\"><div class=\"sk-estimator sk-toggleable\"><input class=\"sk-toggleable__control sk-hidden--visually\" id=\"sk-estimator-id-3\" type=\"checkbox\" ><label for=\"sk-estimator-id-3\" class=\"sk-toggleable__label sk-toggleable__label-arrow\">LogisticRegression</label><div class=\"sk-toggleable__content\"><pre>LogisticRegression()</pre></div></div></div></div></div></div></div></div></div></div>"
     },
     "execution_count": 27,
     "metadata": {},
     "output_type": "execute_result"
    }
   ],
   "source": [
    "#Tune LR model hyperparameters\n",
    "from sklearn.model_selection import RandomizedSearchCV\n",
    "\n",
    "#create the grid of hyperparameters to be used in RandomizedSearchCV\n",
    "random_grid_LR = {'penalty' : ['l2', None], 'solver' : ['sag', 'saga', 'liblinear']}\n",
    "#Create the randomizedSearchCV object\n",
    "LR_random = RandomizedSearchCV(estimator=LRclass, param_distributions=random_grid_LR, n_iter=30, cv=5, verbose=0, n_jobs=-1, scoring=\"neg_mean_squared_error\")\n",
    "\n",
    "LR_random.fit(heart_feat, heart_targ)"
   ],
   "metadata": {
    "collapsed": false,
    "ExecuteTime": {
     "end_time": "2023-11-05T19:32:53.561094900Z",
     "start_time": "2023-11-05T19:32:49.942911Z"
    }
   },
   "id": "c19851a92cb20160"
  },
  {
   "cell_type": "code",
   "execution_count": 28,
   "outputs": [
    {
     "name": "stderr",
     "output_type": "stream",
     "text": [
      "C:\\Users\\aljo9\\PycharmProjects\\ML_Project\\venv\\lib\\site-packages\\sklearn\\model_selection\\_search.py:307: UserWarning: The total space of parameters 6 is smaller than n_iter=30. Running 6 iterations. For exhaustive searches, use GridSearchCV.\n",
      "  warnings.warn(\n",
      "C:\\Users\\aljo9\\PycharmProjects\\ML_Project\\venv\\lib\\site-packages\\sklearn\\model_selection\\_validation.py:425: FitFailedWarning: \n",
      "5 fits failed out of a total of 30.\n",
      "The score on these train-test partitions for these parameters will be set to nan.\n",
      "If these failures are not expected, you can try to debug them by setting error_score='raise'.\n",
      "\n",
      "Below are more details about the failures:\n",
      "--------------------------------------------------------------------------------\n",
      "5 fits failed with the following error:\n",
      "Traceback (most recent call last):\n",
      "  File \"C:\\Users\\aljo9\\PycharmProjects\\ML_Project\\venv\\lib\\site-packages\\sklearn\\model_selection\\_validation.py\", line 729, in _fit_and_score\n",
      "    estimator.fit(X_train, y_train, **fit_params)\n",
      "  File \"C:\\Users\\aljo9\\PycharmProjects\\ML_Project\\venv\\lib\\site-packages\\sklearn\\base.py\", line 1152, in wrapper\n",
      "    return fit_method(estimator, *args, **kwargs)\n",
      "  File \"C:\\Users\\aljo9\\PycharmProjects\\ML_Project\\venv\\lib\\site-packages\\sklearn\\linear_model\\_logistic.py\", line 1228, in fit\n",
      "    self.coef_, self.intercept_, self.n_iter_ = _fit_liblinear(\n",
      "  File \"C:\\Users\\aljo9\\PycharmProjects\\ML_Project\\venv\\lib\\site-packages\\sklearn\\svm\\_base.py\", line 1229, in _fit_liblinear\n",
      "    solver_type = _get_liblinear_solver_type(multi_class, penalty, loss, dual)\n",
      "  File \"C:\\Users\\aljo9\\PycharmProjects\\ML_Project\\venv\\lib\\site-packages\\sklearn\\svm\\_base.py\", line 1060, in _get_liblinear_solver_type\n",
      "    raise ValueError(\n",
      "ValueError: Unsupported set of arguments: The combination of penalty='None' and loss='logistic_regression' is not supported, Parameters: penalty=None, loss='logistic_regression', dual=False\n",
      "\n",
      "  warnings.warn(some_fits_failed_message, FitFailedWarning)\n",
      "C:\\Users\\aljo9\\PycharmProjects\\ML_Project\\venv\\lib\\site-packages\\sklearn\\model_selection\\_search.py:979: UserWarning: One or more of the test scores are non-finite: [-0.35821065 -0.35821065 -0.35821065 -0.35821065 -0.35821065         nan]\n",
      "  warnings.warn(\n"
     ]
    },
    {
     "data": {
      "text/plain": "RandomizedSearchCV(cv=5, estimator=LogisticRegression(), n_iter=30, n_jobs=-1,\n                   param_distributions={'penalty': ['l2', None],\n                                        'solver': ['sag', 'saga', 'liblinear']},\n                   scoring='neg_mean_squared_error')",
      "text/html": "<style>#sk-container-id-2 {color: black;}#sk-container-id-2 pre{padding: 0;}#sk-container-id-2 div.sk-toggleable {background-color: white;}#sk-container-id-2 label.sk-toggleable__label {cursor: pointer;display: block;width: 100%;margin-bottom: 0;padding: 0.3em;box-sizing: border-box;text-align: center;}#sk-container-id-2 label.sk-toggleable__label-arrow:before {content: \"▸\";float: left;margin-right: 0.25em;color: #696969;}#sk-container-id-2 label.sk-toggleable__label-arrow:hover:before {color: black;}#sk-container-id-2 div.sk-estimator:hover label.sk-toggleable__label-arrow:before {color: black;}#sk-container-id-2 div.sk-toggleable__content {max-height: 0;max-width: 0;overflow: hidden;text-align: left;background-color: #f0f8ff;}#sk-container-id-2 div.sk-toggleable__content pre {margin: 0.2em;color: black;border-radius: 0.25em;background-color: #f0f8ff;}#sk-container-id-2 input.sk-toggleable__control:checked~div.sk-toggleable__content {max-height: 200px;max-width: 100%;overflow: auto;}#sk-container-id-2 input.sk-toggleable__control:checked~label.sk-toggleable__label-arrow:before {content: \"▾\";}#sk-container-id-2 div.sk-estimator input.sk-toggleable__control:checked~label.sk-toggleable__label {background-color: #d4ebff;}#sk-container-id-2 div.sk-label input.sk-toggleable__control:checked~label.sk-toggleable__label {background-color: #d4ebff;}#sk-container-id-2 input.sk-hidden--visually {border: 0;clip: rect(1px 1px 1px 1px);clip: rect(1px, 1px, 1px, 1px);height: 1px;margin: -1px;overflow: hidden;padding: 0;position: absolute;width: 1px;}#sk-container-id-2 div.sk-estimator {font-family: monospace;background-color: #f0f8ff;border: 1px dotted black;border-radius: 0.25em;box-sizing: border-box;margin-bottom: 0.5em;}#sk-container-id-2 div.sk-estimator:hover {background-color: #d4ebff;}#sk-container-id-2 div.sk-parallel-item::after {content: \"\";width: 100%;border-bottom: 1px solid gray;flex-grow: 1;}#sk-container-id-2 div.sk-label:hover label.sk-toggleable__label {background-color: #d4ebff;}#sk-container-id-2 div.sk-serial::before {content: \"\";position: absolute;border-left: 1px solid gray;box-sizing: border-box;top: 0;bottom: 0;left: 50%;z-index: 0;}#sk-container-id-2 div.sk-serial {display: flex;flex-direction: column;align-items: center;background-color: white;padding-right: 0.2em;padding-left: 0.2em;position: relative;}#sk-container-id-2 div.sk-item {position: relative;z-index: 1;}#sk-container-id-2 div.sk-parallel {display: flex;align-items: stretch;justify-content: center;background-color: white;position: relative;}#sk-container-id-2 div.sk-item::before, #sk-container-id-2 div.sk-parallel-item::before {content: \"\";position: absolute;border-left: 1px solid gray;box-sizing: border-box;top: 0;bottom: 0;left: 50%;z-index: -1;}#sk-container-id-2 div.sk-parallel-item {display: flex;flex-direction: column;z-index: 1;position: relative;background-color: white;}#sk-container-id-2 div.sk-parallel-item:first-child::after {align-self: flex-end;width: 50%;}#sk-container-id-2 div.sk-parallel-item:last-child::after {align-self: flex-start;width: 50%;}#sk-container-id-2 div.sk-parallel-item:only-child::after {width: 0;}#sk-container-id-2 div.sk-dashed-wrapped {border: 1px dashed gray;margin: 0 0.4em 0.5em 0.4em;box-sizing: border-box;padding-bottom: 0.4em;background-color: white;}#sk-container-id-2 div.sk-label label {font-family: monospace;font-weight: bold;display: inline-block;line-height: 1.2em;}#sk-container-id-2 div.sk-label-container {text-align: center;}#sk-container-id-2 div.sk-container {/* jupyter's `normalize.less` sets `[hidden] { display: none; }` but bootstrap.min.css set `[hidden] { display: none !important; }` so we also need the `!important` here to be able to override the default hidden behavior on the sphinx rendered scikit-learn.org. See: https://github.com/scikit-learn/scikit-learn/issues/21755 */display: inline-block !important;position: relative;}#sk-container-id-2 div.sk-text-repr-fallback {display: none;}</style><div id=\"sk-container-id-2\" class=\"sk-top-container\"><div class=\"sk-text-repr-fallback\"><pre>RandomizedSearchCV(cv=5, estimator=LogisticRegression(), n_iter=30, n_jobs=-1,\n                   param_distributions={&#x27;penalty&#x27;: [&#x27;l2&#x27;, None],\n                                        &#x27;solver&#x27;: [&#x27;sag&#x27;, &#x27;saga&#x27;, &#x27;liblinear&#x27;]},\n                   scoring=&#x27;neg_mean_squared_error&#x27;)</pre><b>In a Jupyter environment, please rerun this cell to show the HTML representation or trust the notebook. <br />On GitHub, the HTML representation is unable to render, please try loading this page with nbviewer.org.</b></div><div class=\"sk-container\" hidden><div class=\"sk-item sk-dashed-wrapped\"><div class=\"sk-label-container\"><div class=\"sk-label sk-toggleable\"><input class=\"sk-toggleable__control sk-hidden--visually\" id=\"sk-estimator-id-4\" type=\"checkbox\" ><label for=\"sk-estimator-id-4\" class=\"sk-toggleable__label sk-toggleable__label-arrow\">RandomizedSearchCV</label><div class=\"sk-toggleable__content\"><pre>RandomizedSearchCV(cv=5, estimator=LogisticRegression(), n_iter=30, n_jobs=-1,\n                   param_distributions={&#x27;penalty&#x27;: [&#x27;l2&#x27;, None],\n                                        &#x27;solver&#x27;: [&#x27;sag&#x27;, &#x27;saga&#x27;, &#x27;liblinear&#x27;]},\n                   scoring=&#x27;neg_mean_squared_error&#x27;)</pre></div></div></div><div class=\"sk-parallel\"><div class=\"sk-parallel-item\"><div class=\"sk-item\"><div class=\"sk-label-container\"><div class=\"sk-label sk-toggleable\"><input class=\"sk-toggleable__control sk-hidden--visually\" id=\"sk-estimator-id-5\" type=\"checkbox\" ><label for=\"sk-estimator-id-5\" class=\"sk-toggleable__label sk-toggleable__label-arrow\">estimator: LogisticRegression</label><div class=\"sk-toggleable__content\"><pre>LogisticRegression()</pre></div></div></div><div class=\"sk-serial\"><div class=\"sk-item\"><div class=\"sk-estimator sk-toggleable\"><input class=\"sk-toggleable__control sk-hidden--visually\" id=\"sk-estimator-id-6\" type=\"checkbox\" ><label for=\"sk-estimator-id-6\" class=\"sk-toggleable__label sk-toggleable__label-arrow\">LogisticRegression</label><div class=\"sk-toggleable__content\"><pre>LogisticRegression()</pre></div></div></div></div></div></div></div></div></div></div>"
     },
     "execution_count": 28,
     "metadata": {},
     "output_type": "execute_result"
    }
   ],
   "source": [
    "LR_random.fit(heart_feat, heart_targ)"
   ],
   "metadata": {
    "collapsed": false,
    "ExecuteTime": {
     "end_time": "2023-11-05T19:32:54.550002800Z",
     "start_time": "2023-11-05T19:32:53.559071500Z"
    }
   },
   "id": "eba801b5a863e097"
  },
  {
   "cell_type": "code",
   "execution_count": 29,
   "outputs": [
    {
     "data": {
      "text/plain": "{'solver': 'sag', 'penalty': 'l2'}"
     },
     "execution_count": 29,
     "metadata": {},
     "output_type": "execute_result"
    }
   ],
   "source": [
    "LR_random.best_params_"
   ],
   "metadata": {
    "collapsed": false,
    "ExecuteTime": {
     "end_time": "2023-11-05T19:32:54.592137200Z",
     "start_time": "2023-11-05T19:32:54.550002800Z"
    }
   },
   "id": "146d5483cc58660d"
  },
  {
   "cell_type": "code",
   "execution_count": 30,
   "outputs": [],
   "source": [
    "# Run LR Model with optimized hyperparameters\n",
    "random = []\n",
    "for i in range(20):\n",
    "    \n",
    "    random.append(-cross_val_score(LogisticRegression(solver='sag', penalty='l2'), X=heart_feat, y=heart_targ, cv=5, scoring=\"neg_mean_squared_error\").mean())\n"
   ],
   "metadata": {
    "collapsed": false,
    "ExecuteTime": {
     "end_time": "2023-11-05T19:33:07.302946300Z",
     "start_time": "2023-11-05T19:32:54.571067100Z"
    }
   },
   "id": "5f4d30edcd22e054"
  },
  {
   "cell_type": "code",
   "execution_count": 31,
   "outputs": [
    {
     "name": "stdout",
     "output_type": "stream",
     "text": [
      "0.6383342840844267\n"
     ]
    },
    {
     "data": {
      "text/plain": "<Figure size 640x480 with 2 Axes>",
      "image/png": "[encoded data removed]"
     },
     "metadata": {},
     "output_type": "display_data"
    }
   ],
   "source": [
    "from sklearn.metrics import confusion_matrix, ConfusionMatrixDisplay\n",
    "LRclass.fit(heartTrainX, heartTrainY)\n",
    "\n",
    "predictions = LRclass.predict(heartTestX)\n",
    "cm = confusion_matrix(heartTestY, predictions, labels=LRclass.classes_)\n",
    "disp = ConfusionMatrixDisplay(confusion_matrix=cm, display_labels=LRclass.classes_)\n",
    "disp.plot()\n",
    "\n",
    "print(accuracy_score(heartTestY, predictions))\n"
   ],
   "metadata": {
    "collapsed": false,
    "ExecuteTime": {
     "end_time": "2023-11-05T19:33:07.475446800Z",
     "start_time": "2023-11-05T19:33:07.303926800Z"
    }
   },
   "id": "64955eac35bc490"
  },
  {
   "cell_type": "code",
   "execution_count": 32,
   "outputs": [
    {
     "data": {
      "text/plain": "array([[ 0.02779368, -0.01714712,  0.01575989,  0.07935448, -0.0436051 ,\n        -0.01245526, -0.0645013 , -0.04660268,  0.00678768, -0.00593803,\n         0.0179997 , -0.05372284, -0.0671909 , -0.00795012,  0.07427266,\n        -0.03049815, -0.04468768,  0.07431746, -0.02186338, -0.04227334,\n         0.06326835, -0.18567189,  0.07154956,  0.0559137 , -0.01070359,\n         0.06804385, -0.19660639,  0.12975496, -0.03547025,  0.04623118,\n         0.05522214,  0.02587091, -0.00174374, -0.02499553]])"
     },
     "execution_count": 32,
     "metadata": {},
     "output_type": "execute_result"
    }
   ],
   "source": [
    "LRclass.coef_"
   ],
   "metadata": {
    "collapsed": false,
    "ExecuteTime": {
     "end_time": "2023-11-05T19:33:07.552562300Z",
     "start_time": "2023-11-05T19:33:07.476448100Z"
    }
   },
   "id": "2179c1a36da8ef4b"
  },
  {
   "cell_type": "code",
   "execution_count": 33,
   "outputs": [
    {
     "data": {
      "text/plain": "{'Age': 0.027793676823110486,\n 'Sex': -0.017147119515443867,\n 'Hypertension': 0.01575988541598682,\n 'Diabetes': 0.07935447770144276,\n 'Family History': -0.043605097688907836,\n 'Smoking': -0.012455261385913815,\n 'Alcohol Consumption': -0.06450129849935496,\n 'Exercise Hours Per Week': -0.04660268481264803,\n 'Previous Heart Problems': 0.006787680979080275,\n 'Stress Level': -0.0059380309869098095,\n 'Physical Activity Days Per Week': 0.01799969535883031,\n 'Sleep Hours Per Day': -0.053722837821378405,\n 'Cholesterol_0': -0.06719090489869187,\n 'Cholesterol_1': -0.007950119591363934,\n 'Cholesterol_2': 0.07427266006868823,\n 'Heart Rate_0': -0.03049814980887701,\n 'Heart Rate_1': -0.04468767797028539,\n 'Heart Rate_2': 0.07431746335775789,\n 'Diet_0': -0.021863378839138782,\n 'Diet_1': -0.04227333841279446,\n 'Diet_2': 0.06326835283055232,\n 'Income_0': -0.1856718859637407,\n 'Income_1': 0.07154956418639544,\n 'Income_2': 0.055913701216838314,\n 'Income_3': -0.010703590071757162,\n 'Income_4': 0.06804384621087842,\n 'BMI_0': -0.19660639105043995,\n 'BMI_1': 0.12975495525370556,\n 'BMI_2': -0.03547024900594866,\n 'BMI_3': 0.04623118280601802,\n 'BMI_4': 0.05522213757527283,\n 'Triglycerides_0': 0.025870905768757082,\n 'Triglycerides_1': -0.0017437359943083136,\n 'Triglycerides_2': -0.024995534195816325}"
     },
     "execution_count": 33,
     "metadata": {},
     "output_type": "execute_result"
    }
   ],
   "source": [
    "#Shubham Singh YouTube: 11.21 Finding the Most Important Features\n",
    "feature_dict = dict(zip(heart.columns, list(LRclass.coef_[0])))\n",
    "feature_dict\n",
    "#TODO need to find best coefficients, narrow them down to top 10, then retry confusion matrix and MSE with new features selected\n",
    "#TODO use coefficients as part of storytelling\n",
    "#TODO add new citations and update github if necessary"
   ],
   "metadata": {
    "collapsed": false,
    "ExecuteTime": {
     "end_time": "2023-11-05T19:33:07.563072500Z",
     "start_time": "2023-11-05T19:33:07.495499100Z"
    }
   },
   "id": "8a95c1de023a8372"
  },
  {
   "cell_type": "code",
   "execution_count": 34,
   "outputs": [
    {
     "name": "stdout",
     "output_type": "stream",
     "text": [
      "[('Heart Rate_2', 0.07431746335775789), ('Diet_2', 0.06326835283055232), ('Income_0', 0.1856718859637407), ('Income_1', 0.07154956418639544), ('Income_2', 0.055913701216838314), ('Income_4', 0.06804384621087842), ('BMI_0', 0.19660639105043995), ('BMI_1', 0.12975495525370556), ('BMI_3', 0.04623118280601802), ('BMI_4', 0.05522213757527283)]\n"
     ]
    }
   ],
   "source": [
    "top_feature_list = [] # feature with coef in tuple form\n",
    "for feature in list(feature_dict.keys()):\n",
    "    \n",
    "    feature_coef = feature_dict[feature]\n",
    "    \n",
    "    if feature_coef < 0: # flip the sign for processing by greatest absolute effect\n",
    "        feature_coef = feature_coef * -1\n",
    "         \n",
    "    if len(top_feature_list) < 10: # if list not yet full always append\n",
    "          \n",
    "            top_feature_list.append((feature, feature_coef))\n",
    "        \n",
    "    if len(top_feature_list) >= 10:\n",
    "        \n",
    "        for item in top_feature_list:\n",
    "            \n",
    "            if feature_coef <= item[1]: # continue if lower than current\n",
    "                continue\n",
    "                \n",
    "            if feature_coef > item[1]: # if higher replace the item with the current feature tuple and break loop\n",
    "                top_feature_list.remove(item)\n",
    "                top_feature_list.append((feature, feature_coef))\n",
    "                break\n",
    "        \n",
    "print(top_feature_list)"
   ],
   "metadata": {
    "collapsed": false,
    "ExecuteTime": {
     "end_time": "2023-11-05T19:33:07.564071900Z",
     "start_time": "2023-11-05T19:33:07.509553Z"
    }
   },
   "id": "aca46972c1400f33"
  },
  {
   "cell_type": "code",
   "execution_count": 35,
   "outputs": [
    {
     "name": "stdout",
     "output_type": "stream",
     "text": [
      "Index(['Heart Rate_2', 'Diet_2', 'Income_0', 'Income_1', 'Income_2',\n",
      "       'Income_4', 'BMI_0', 'BMI_1', 'BMI_3', 'BMI_4', 'Heart Attack Risk'],\n",
      "      dtype='object')\n"
     ]
    },
    {
     "data": {
      "text/plain": "   Heart Rate_2  Diet_2  Income_0  Income_1  Income_2  Income_4  BMI_0  BMI_1  \\\n0           0.0     0.0       0.0       0.0       0.0       1.0    0.0    0.0   \n1           0.0     0.0       0.0       0.0       0.0       1.0    0.0    0.0   \n2           0.0     1.0       0.0       0.0       0.0       1.0    0.0    0.0   \n3           0.0     0.0       0.0       0.0       0.0       0.0    0.0    0.0   \n4           0.0     0.0       0.0       0.0       0.0       1.0    0.0    1.0   \n\n   BMI_3  BMI_4  Heart Attack Risk  \n0    1.0    0.0                  0  \n1    0.0    0.0                  0  \n2    0.0    0.0                  0  \n3    1.0    0.0                  0  \n4    0.0    0.0                  0  ",
      "text/html": "<div>\n<style scoped>\n    .dataframe tbody tr th:only-of-type {\n        vertical-align: middle;\n    }\n\n    .dataframe tbody tr th {\n        vertical-align: top;\n    }\n\n    .dataframe thead th {\n        text-align: right;\n    }\n</style>\n<table border=\"1\" class=\"dataframe\">\n  <thead>\n    <tr style=\"text-align: right;\">\n      <th></th>\n      <th>Heart Rate_2</th>\n      <th>Diet_2</th>\n      <th>Income_0</th>\n      <th>Income_1</th>\n      <th>Income_2</th>\n      <th>Income_4</th>\n      <th>BMI_0</th>\n      <th>BMI_1</th>\n      <th>BMI_3</th>\n      <th>BMI_4</th>\n      <th>Heart Attack Risk</th>\n    </tr>\n  </thead>\n  <tbody>\n    <tr>\n      <th>0</th>\n      <td>0.0</td>\n      <td>0.0</td>\n      <td>0.0</td>\n      <td>0.0</td>\n      <td>0.0</td>\n      <td>1.0</td>\n      <td>0.0</td>\n      <td>0.0</td>\n      <td>1.0</td>\n      <td>0.0</td>\n      <td>0</td>\n    </tr>\n    <tr>\n      <th>1</th>\n      <td>0.0</td>\n      <td>0.0</td>\n      <td>0.0</td>\n      <td>0.0</td>\n      <td>0.0</td>\n      <td>1.0</td>\n      <td>0.0</td>\n      <td>0.0</td>\n      <td>0.0</td>\n      <td>0.0</td>\n      <td>0</td>\n    </tr>\n    <tr>\n      <th>2</th>\n      <td>0.0</td>\n      <td>1.0</td>\n      <td>0.0</td>\n      <td>0.0</td>\n      <td>0.0</td>\n      <td>1.0</td>\n      <td>0.0</td>\n      <td>0.0</td>\n      <td>0.0</td>\n      <td>0.0</td>\n      <td>0</td>\n    </tr>\n    <tr>\n      <th>3</th>\n      <td>0.0</td>\n      <td>0.0</td>\n      <td>0.0</td>\n      <td>0.0</td>\n      <td>0.0</td>\n      <td>0.0</td>\n      <td>0.0</td>\n      <td>0.0</td>\n      <td>1.0</td>\n      <td>0.0</td>\n      <td>0</td>\n    </tr>\n    <tr>\n      <th>4</th>\n      <td>0.0</td>\n      <td>0.0</td>\n      <td>0.0</td>\n      <td>0.0</td>\n      <td>0.0</td>\n      <td>1.0</td>\n      <td>0.0</td>\n      <td>1.0</td>\n      <td>0.0</td>\n      <td>0.0</td>\n      <td>0</td>\n    </tr>\n  </tbody>\n</table>\n</div>"
     },
     "execution_count": 35,
     "metadata": {},
     "output_type": "execute_result"
    }
   ],
   "source": [
    "#Rerun program with only top 10 parameters\n",
    "tf_list = [] # placeholder list for all features without the attached coef\n",
    "for item in top_feature_list:\n",
    "    tf_list.append(item[0])\n",
    "    \n",
    "for column in heart.columns: # Modify heart to only have top 10 features and the target feature\n",
    "    if column not in tf_list and column != \"Heart Attack Risk\":\n",
    "        heart = heart.drop(columns=column)\n",
    "print(heart.columns)\n",
    "heart.head()"
   ],
   "metadata": {
    "collapsed": false,
    "ExecuteTime": {
     "end_time": "2023-11-05T19:33:07.565362900Z",
     "start_time": "2023-11-05T19:33:07.526538900Z"
    }
   },
   "id": "d3ac0678a84bbe74"
  },
  {
   "cell_type": "code",
   "execution_count": 36,
   "outputs": [
    {
     "name": "stdout",
     "output_type": "stream",
     "text": [
      "LR classifier roc_auc score: 0.5\n",
      "LR classifier accuracy score: 0.6488876212207644\n",
      "LR MSE: 0.3511123787792356\n",
      "MSE of LR model using k-fold CV: 0.3582106473703267\n",
      "0.3619509412435824\n",
      "0.36737022247575585\n",
      "0.35168282943525386\n",
      "0.34711922418710783\n",
      "0.35168282943525386\n",
      "0.3687963491158015\n",
      "0.3622361665715916\n",
      "0.3710781517398745\n",
      "0.372219053051911\n",
      "0.3639475185396463\n"
     ]
    },
    {
     "name": "stderr",
     "output_type": "stream",
     "text": [
      "C:\\Users\\aljo9\\PycharmProjects\\ML_Project\\venv\\lib\\site-packages\\sklearn\\model_selection\\_search.py:307: UserWarning: The total space of parameters 6 is smaller than n_iter=30. Running 6 iterations. For exhaustive searches, use GridSearchCV.\n",
      "  warnings.warn(\n",
      "C:\\Users\\aljo9\\PycharmProjects\\ML_Project\\venv\\lib\\site-packages\\sklearn\\model_selection\\_validation.py:425: FitFailedWarning: \n",
      "5 fits failed out of a total of 30.\n",
      "The score on these train-test partitions for these parameters will be set to nan.\n",
      "If these failures are not expected, you can try to debug them by setting error_score='raise'.\n",
      "\n",
      "Below are more details about the failures:\n",
      "--------------------------------------------------------------------------------\n",
      "5 fits failed with the following error:\n",
      "Traceback (most recent call last):\n",
      "  File \"C:\\Users\\aljo9\\PycharmProjects\\ML_Project\\venv\\lib\\site-packages\\sklearn\\model_selection\\_validation.py\", line 729, in _fit_and_score\n",
      "    estimator.fit(X_train, y_train, **fit_params)\n",
      "  File \"C:\\Users\\aljo9\\PycharmProjects\\ML_Project\\venv\\lib\\site-packages\\sklearn\\base.py\", line 1152, in wrapper\n",
      "    return fit_method(estimator, *args, **kwargs)\n",
      "  File \"C:\\Users\\aljo9\\PycharmProjects\\ML_Project\\venv\\lib\\site-packages\\sklearn\\linear_model\\_logistic.py\", line 1228, in fit\n",
      "    self.coef_, self.intercept_, self.n_iter_ = _fit_liblinear(\n",
      "  File \"C:\\Users\\aljo9\\PycharmProjects\\ML_Project\\venv\\lib\\site-packages\\sklearn\\svm\\_base.py\", line 1229, in _fit_liblinear\n",
      "    solver_type = _get_liblinear_solver_type(multi_class, penalty, loss, dual)\n",
      "  File \"C:\\Users\\aljo9\\PycharmProjects\\ML_Project\\venv\\lib\\site-packages\\sklearn\\svm\\_base.py\", line 1060, in _get_liblinear_solver_type\n",
      "    raise ValueError(\n",
      "ValueError: Unsupported set of arguments: The combination of penalty='None' and loss='logistic_regression' is not supported, Parameters: penalty=None, loss='logistic_regression', dual=False\n",
      "\n",
      "  warnings.warn(some_fits_failed_message, FitFailedWarning)\n",
      "C:\\Users\\aljo9\\PycharmProjects\\ML_Project\\venv\\lib\\site-packages\\sklearn\\model_selection\\_search.py:979: UserWarning: One or more of the test scores are non-finite: [-0.35821065 -0.35821065 -0.35821065 -0.35821065 -0.35821065         nan]\n",
      "  warnings.warn(\n",
      "C:\\Users\\aljo9\\PycharmProjects\\ML_Project\\venv\\lib\\site-packages\\sklearn\\model_selection\\_search.py:307: UserWarning: The total space of parameters 6 is smaller than n_iter=30. Running 6 iterations. For exhaustive searches, use GridSearchCV.\n",
      "  warnings.warn(\n",
      "C:\\Users\\aljo9\\PycharmProjects\\ML_Project\\venv\\lib\\site-packages\\sklearn\\model_selection\\_validation.py:425: FitFailedWarning: \n",
      "5 fits failed out of a total of 30.\n",
      "The score on these train-test partitions for these parameters will be set to nan.\n",
      "If these failures are not expected, you can try to debug them by setting error_score='raise'.\n",
      "\n",
      "Below are more details about the failures:\n",
      "--------------------------------------------------------------------------------\n",
      "5 fits failed with the following error:\n",
      "Traceback (most recent call last):\n",
      "  File \"C:\\Users\\aljo9\\PycharmProjects\\ML_Project\\venv\\lib\\site-packages\\sklearn\\model_selection\\_validation.py\", line 729, in _fit_and_score\n",
      "    estimator.fit(X_train, y_train, **fit_params)\n",
      "  File \"C:\\Users\\aljo9\\PycharmProjects\\ML_Project\\venv\\lib\\site-packages\\sklearn\\base.py\", line 1152, in wrapper\n",
      "    return fit_method(estimator, *args, **kwargs)\n",
      "  File \"C:\\Users\\aljo9\\PycharmProjects\\ML_Project\\venv\\lib\\site-packages\\sklearn\\linear_model\\_logistic.py\", line 1228, in fit\n",
      "    self.coef_, self.intercept_, self.n_iter_ = _fit_liblinear(\n",
      "  File \"C:\\Users\\aljo9\\PycharmProjects\\ML_Project\\venv\\lib\\site-packages\\sklearn\\svm\\_base.py\", line 1229, in _fit_liblinear\n",
      "    solver_type = _get_liblinear_solver_type(multi_class, penalty, loss, dual)\n",
      "  File \"C:\\Users\\aljo9\\PycharmProjects\\ML_Project\\venv\\lib\\site-packages\\sklearn\\svm\\_base.py\", line 1060, in _get_liblinear_solver_type\n",
      "    raise ValueError(\n",
      "ValueError: Unsupported set of arguments: The combination of penalty='None' and loss='logistic_regression' is not supported, Parameters: penalty=None, loss='logistic_regression', dual=False\n",
      "\n",
      "  warnings.warn(some_fits_failed_message, FitFailedWarning)\n",
      "C:\\Users\\aljo9\\PycharmProjects\\ML_Project\\venv\\lib\\site-packages\\sklearn\\model_selection\\_search.py:979: UserWarning: One or more of the test scores are non-finite: [-0.35821065 -0.35821065 -0.35821065 -0.35821065 -0.35821065         nan]\n",
      "  warnings.warn(\n"
     ]
    },
    {
     "name": "stdout",
     "output_type": "stream",
     "text": [
      "0.6360524814603536\n"
     ]
    },
    {
     "data": {
      "text/plain": "<Figure size 640x480 with 1 Axes>",
      "image/png": "[encoded data removed]"
     },
     "metadata": {},
     "output_type": "display_data"
    },
    {
     "data": {
      "text/plain": "<Figure size 640x480 with 2 Axes>",
      "image/png": "[encoded data removed]"
     },
     "metadata": {},
     "output_type": "display_data"
    }
   ],
   "source": [
    "\n",
    "LRclass = LogisticRegression()\n",
    "# Split into features (predictors) and target/label\n",
    "#using PANDAS\n",
    "\n",
    "heart_feat = heart.iloc[:, 0:10]  #split into features, the things we want to input\n",
    "\n",
    "heart_targ = heart.iloc[:, 10]  # split into target, this is the thing we are looking to check given all inputs\n",
    "#train test split\n",
    "heartTrainX, heartTestX, heartTrainY, heartTestY = train_test_split(heart_feat, heart_targ, test_size=0.4)\n",
    "\n",
    "#fit training data. Train models on training data\n",
    "\n",
    "\n",
    "LRclass.fit(heartTrainX, heartTrainY)\n",
    "\n",
    "# Carry out predictions on test dataset\n",
    "\n",
    "\n",
    "LRpredHeart = LRclass.predict(heartTestX)\n",
    "\n",
    "# Error metrics using roc_auc score\n",
    "print(\"LR classifier roc_auc score:\", roc_auc_score(heartTestY, LRpredHeart))\n",
    "\n",
    "# Error Metrics using accuracy score\n",
    "\n",
    "\n",
    "print(\"LR classifier accuracy score:\", accuracy_score(heartTestY, LRpredHeart))\n",
    "\n",
    "# Error Metrics using Mean Square Error\n",
    "\n",
    "print(\"LR MSE:\", mean_squared_error(heartTestY, LRpredHeart))\n",
    "#K-Fold Cross validation\n",
    "print(\"MSE of LR model using k-fold CV:\",\n",
    "      -cross_val_score(LRclass, heart_feat, heart_targ.ravel(), cv=5, scoring=\"neg_mean_squared_error\").mean())\n",
    "\n",
    "#Evaluation of models\n",
    "LRTT = []\n",
    "for i in range(10):\n",
    "    #train test split\n",
    "    heartTrainX, heartTestX, heartTrainY, heartTestY = train_test_split(heart_feat, heart_targ, test_size=0.4)\n",
    "\n",
    "    #fit training data. Train models on training data\n",
    "    LRclass.fit(heartTrainX, heartTrainY)\n",
    "\n",
    "    # Carry out predictions on test dataset\n",
    "    LRpredHeart = LRclass.predict(heartTestX)\n",
    "\n",
    "    LRTT.append(mean_squared_error(LRpredHeart, heartTestY))\n",
    "\n",
    "plt.plot(LRTT, \"-ro\", label=\"LR\")\n",
    "plt.legend(loc=\"best\")\n",
    "for mean in LRTT:\n",
    "    print(mean)\n",
    "#Tune LR model hyperparameters\n",
    "from sklearn.model_selection import RandomizedSearchCV\n",
    "\n",
    "#create the grid of hyperparameters to be used in RandomizedSearchCV\n",
    "random_grid_LR = {'penalty': ['l2', None], 'solver': ['sag', 'saga', 'liblinear']}\n",
    "#Create the randomizedSearchCV object\n",
    "LR_random = RandomizedSearchCV(estimator=LRclass, param_distributions=random_grid_LR, n_iter=30, cv=5, verbose=0,\n",
    "                               n_jobs=-1, scoring=\"neg_mean_squared_error\")\n",
    "\n",
    "LR_random.fit(heart_feat, heart_targ)\n",
    "LR_random.fit(heart_feat, heart_targ)\n",
    "# Run LR Model with optimized hyperparameters\n",
    "random = []\n",
    "for i in range(20):\n",
    "    random.append(-cross_val_score(LogisticRegression(solver='sag', penalty='l2'), X=heart_feat, y=heart_targ, cv=5,\n",
    "                                   scoring=\"neg_mean_squared_error\").mean())\n",
    "\n",
    "from sklearn.metrics import confusion_matrix, ConfusionMatrixDisplay\n",
    "\n",
    "LRclass.fit(heartTrainX, heartTrainY)\n",
    "\n",
    "predictions = LRclass.predict(heartTestX)\n",
    "cm = confusion_matrix(heartTestY, predictions, labels=LRclass.classes_)\n",
    "disp = ConfusionMatrixDisplay(confusion_matrix=cm, display_labels=LRclass.classes_)\n",
    "disp.plot()\n",
    "\n",
    "print(accuracy_score(heartTestY, predictions))\n"
   ],
   "metadata": {
    "collapsed": false,
    "ExecuteTime": {
     "end_time": "2023-11-05T19:33:11.277226Z",
     "start_time": "2023-11-05T19:33:07.562073Z"
    }
   },
   "id": "9df235c0ec6d13eb"
  },
  {
   "cell_type": "code",
   "execution_count": 37,
   "outputs": [],
   "source": [
    "#Reduction of features did not improve accuracy, as hypothesized due to the disadvantage of Logistical Regression models being that they suffer from a high feature/record ratio"
   ],
   "metadata": {
    "collapsed": false,
    "ExecuteTime": {
     "end_time": "2023-11-05T19:33:11.289741700Z",
     "start_time": "2023-11-05T19:33:11.274217900Z"
    }
   },
   "id": "dfb56e0435d3af96"
  }
 ],
 "metadata": {
  "kernelspec": {
   "display_name": "Python 3",
   "language": "python",
   "name": "python3"
  },
  "language_info": {
   "codemirror_mode": {
    "name": "ipython",
    "version": 2
   },
   "file_extension": ".py",
   "mimetype": "text/x-python",
   "name": "python",
   "nbconvert_exporter": "python",
   "pygments_lexer": "ipython2",
   "version": "2.7.6"
  }
 },
 "nbformat": 4,
 "nbformat_minor": 5
}
