{
 "cells": [
  {
   "cell_type": "raw",
   "source": [
    "/Below Creates Displot between a variable and the related heart attack risk, which is defined by whether or not the patient has had a previous heart attack. The following is a list of all possible inputs for x:\n",
    "Age | Sex | Cholesterol | Hypetension | Heart Rate | Diabetes | Family History | Smoking | Alcohol Consumption | Exercise Hours Per Week\n",
    "Diet | Previous Heart Problems | Stress Level | Income | BMI | Triglycerides | Physical Activity Days Per Week | Sleep Hours Per Day"
   ],
   "metadata": {
    "collapsed": false
   },
   "id": "65095a9a2e638187"
  },
  {
   "cell_type": "code",
   "execution_count": 50,
   "outputs": [],
   "source": [
    "import pandas as pd\n",
    "import matplotlib.pyplot as plt\n",
    "import numpy as np\n",
    "from sklearn.ensemble import RandomForestClassifier\n",
    "from sklearn.neural_network import MLPClassifier\n",
    "from sklearn.linear_model import LogisticRegression\n",
    "from sklearn.metrics import roc_auc_score, accuracy_score, mean_squared_error\n",
    "from sklearn.model_selection import train_test_split, cross_val_score\n",
    "import seaborn as sns"
   ],
   "metadata": {
    "collapsed": false,
    "ExecuteTime": {
     "end_time": "2023-11-01T05:17:22.263526700Z",
     "start_time": "2023-11-01T05:17:22.223270400Z"
    }
   },
   "id": "2234e40f37668683"
  },
  {
   "cell_type": "code",
   "execution_count": 51,
   "outputs": [
    {
     "data": {
      "text/plain": "  Patient ID  Age  Sex  Cholesterol  Hypertension  Heart Rate  Diabetes  \\\n0    BMW7812    1    1            1             1           1         0   \n1    CZE1114    0    1            2             1           1         1   \n2    BNI9906    0    0            2             1           1         1   \n3    JLN3497    1    1            2             1           1         1   \n4    GFO8847    1    1            2             0           1         1   \n\n   Family History  Smoking  Alcohol Consumption  Exercise Hours Per Week  \\\n0               0        1                    0                        1   \n1               1        1                    1                        0   \n2               0        0                    0                        0   \n3               1        1                    1                        1   \n4               1        1                    0                        1   \n\n   Diet  Previous Heart Problems  Stress Level  Income  BMI  Triglycerides  \\\n0     1                        0             1       4    3              2   \n1     0                        1             0       4    2              2   \n2     2                        1             1       4    2              2   \n3     1                        1             1       3    3              2   \n4     0                        1             1       4    1              2   \n\n   Physical Activity Days Per Week  Sleep Hours Per Day  Heart Attack Risk  \n0                                0                    0                  0  \n1                                0                    1                  0  \n2                                0                    0                  0  \n3                                0                    0                  0  \n4                                0                    0                  0  ",
      "text/html": "<div>\n<style scoped>\n    .dataframe tbody tr th:only-of-type {\n        vertical-align: middle;\n    }\n\n    .dataframe tbody tr th {\n        vertical-align: top;\n    }\n\n    .dataframe thead th {\n        text-align: right;\n    }\n</style>\n<table border=\"1\" class=\"dataframe\">\n  <thead>\n    <tr style=\"text-align: right;\">\n      <th></th>\n      <th>Patient ID</th>\n      <th>Age</th>\n      <th>Sex</th>\n      <th>Cholesterol</th>\n      <th>Hypertension</th>\n      <th>Heart Rate</th>\n      <th>Diabetes</th>\n      <th>Family History</th>\n      <th>Smoking</th>\n      <th>Alcohol Consumption</th>\n      <th>Exercise Hours Per Week</th>\n      <th>Diet</th>\n      <th>Previous Heart Problems</th>\n      <th>Stress Level</th>\n      <th>Income</th>\n      <th>BMI</th>\n      <th>Triglycerides</th>\n      <th>Physical Activity Days Per Week</th>\n      <th>Sleep Hours Per Day</th>\n      <th>Heart Attack Risk</th>\n    </tr>\n  </thead>\n  <tbody>\n    <tr>\n      <th>0</th>\n      <td>BMW7812</td>\n      <td>1</td>\n      <td>1</td>\n      <td>1</td>\n      <td>1</td>\n      <td>1</td>\n      <td>0</td>\n      <td>0</td>\n      <td>1</td>\n      <td>0</td>\n      <td>1</td>\n      <td>1</td>\n      <td>0</td>\n      <td>1</td>\n      <td>4</td>\n      <td>3</td>\n      <td>2</td>\n      <td>0</td>\n      <td>0</td>\n      <td>0</td>\n    </tr>\n    <tr>\n      <th>1</th>\n      <td>CZE1114</td>\n      <td>0</td>\n      <td>1</td>\n      <td>2</td>\n      <td>1</td>\n      <td>1</td>\n      <td>1</td>\n      <td>1</td>\n      <td>1</td>\n      <td>1</td>\n      <td>0</td>\n      <td>0</td>\n      <td>1</td>\n      <td>0</td>\n      <td>4</td>\n      <td>2</td>\n      <td>2</td>\n      <td>0</td>\n      <td>1</td>\n      <td>0</td>\n    </tr>\n    <tr>\n      <th>2</th>\n      <td>BNI9906</td>\n      <td>0</td>\n      <td>0</td>\n      <td>2</td>\n      <td>1</td>\n      <td>1</td>\n      <td>1</td>\n      <td>0</td>\n      <td>0</td>\n      <td>0</td>\n      <td>0</td>\n      <td>2</td>\n      <td>1</td>\n      <td>1</td>\n      <td>4</td>\n      <td>2</td>\n      <td>2</td>\n      <td>0</td>\n      <td>0</td>\n      <td>0</td>\n    </tr>\n    <tr>\n      <th>3</th>\n      <td>JLN3497</td>\n      <td>1</td>\n      <td>1</td>\n      <td>2</td>\n      <td>1</td>\n      <td>1</td>\n      <td>1</td>\n      <td>1</td>\n      <td>1</td>\n      <td>1</td>\n      <td>1</td>\n      <td>1</td>\n      <td>1</td>\n      <td>1</td>\n      <td>3</td>\n      <td>3</td>\n      <td>2</td>\n      <td>0</td>\n      <td>0</td>\n      <td>0</td>\n    </tr>\n    <tr>\n      <th>4</th>\n      <td>GFO8847</td>\n      <td>1</td>\n      <td>1</td>\n      <td>2</td>\n      <td>0</td>\n      <td>1</td>\n      <td>1</td>\n      <td>1</td>\n      <td>1</td>\n      <td>0</td>\n      <td>1</td>\n      <td>0</td>\n      <td>1</td>\n      <td>1</td>\n      <td>4</td>\n      <td>1</td>\n      <td>2</td>\n      <td>0</td>\n      <td>0</td>\n      <td>0</td>\n    </tr>\n  </tbody>\n</table>\n</div>"
     },
     "execution_count": 51,
     "metadata": {},
     "output_type": "execute_result"
    }
   ],
   "source": [
    "df = pd.read_csv(\"heart_risk_cleaned.csv\")\n",
    "y_input = \"Heart Attack Risk\"\n",
    "df.head()"
   ],
   "metadata": {
    "collapsed": false,
    "ExecuteTime": {
     "end_time": "2023-11-01T05:17:22.274517Z",
     "start_time": "2023-11-01T05:17:22.242511Z"
    }
   },
   "id": "c66b13d72d33883f"
  },
  {
   "cell_type": "code",
   "execution_count": 52,
   "outputs": [
    {
     "data": {
      "text/plain": "      Cholesterol_0  Cholesterol_1  Cholesterol_2  Heart Rate_0  Heart Rate_1  \\\n0               0.0            1.0            0.0           0.0           1.0   \n1               0.0            0.0            1.0           0.0           1.0   \n2               0.0            0.0            1.0           0.0           1.0   \n3               0.0            0.0            1.0           0.0           1.0   \n4               0.0            0.0            1.0           0.0           1.0   \n...             ...            ...            ...           ...           ...   \n8758            1.0            0.0            0.0           0.0           1.0   \n8759            1.0            0.0            0.0           0.0           1.0   \n8760            0.0            0.0            1.0           0.0           0.0   \n8761            1.0            0.0            0.0           0.0           1.0   \n8762            0.0            0.0            1.0           0.0           1.0   \n\n      Heart Rate_2  Diet_0  Diet_1  Diet_2  Income_0  ...  Income_3  Income_4  \\\n0              0.0     0.0     1.0     0.0       0.0  ...       0.0       1.0   \n1              0.0     1.0     0.0     0.0       0.0  ...       0.0       1.0   \n2              0.0     0.0     0.0     1.0       0.0  ...       0.0       1.0   \n3              0.0     0.0     1.0     0.0       0.0  ...       1.0       0.0   \n4              0.0     1.0     0.0     0.0       0.0  ...       0.0       1.0   \n...            ...     ...     ...     ...       ...  ...       ...       ...   \n8758           0.0     0.0     0.0     1.0       0.0  ...       0.0       1.0   \n8759           0.0     0.0     0.0     1.0       0.0  ...       0.0       1.0   \n8760           1.0     0.0     1.0     0.0       0.0  ...       0.0       0.0   \n8761           0.0     1.0     0.0     0.0       0.0  ...       0.0       1.0   \n8762           0.0     0.0     0.0     1.0       0.0  ...       0.0       1.0   \n\n      BMI_0  BMI_1  BMI_2  BMI_3  BMI_4  Triglycerides_0  Triglycerides_1  \\\n0       0.0    0.0    0.0    1.0    0.0              0.0              0.0   \n1       0.0    0.0    1.0    0.0    0.0              0.0              0.0   \n2       0.0    0.0    1.0    0.0    0.0              0.0              0.0   \n3       0.0    0.0    0.0    1.0    0.0              0.0              0.0   \n4       0.0    1.0    0.0    0.0    0.0              0.0              0.0   \n...     ...    ...    ...    ...    ...              ...              ...   \n8758    0.0    1.0    0.0    0.0    0.0              1.0              0.0   \n8759    0.0    1.0    0.0    0.0    0.0              0.0              0.0   \n8760    0.0    0.0    0.0    1.0    0.0              0.0              0.0   \n8761    0.0    0.0    1.0    0.0    0.0              1.0              0.0   \n8762    0.0    0.0    0.0    1.0    0.0              0.0              1.0   \n\n      Triglycerides_2  \n0                 1.0  \n1                 1.0  \n2                 1.0  \n3                 1.0  \n4                 1.0  \n...               ...  \n8758              0.0  \n8759              1.0  \n8760              1.0  \n8761              0.0  \n8762              0.0  \n\n[8763 rows x 22 columns]",
      "text/html": "<div>\n<style scoped>\n    .dataframe tbody tr th:only-of-type {\n        vertical-align: middle;\n    }\n\n    .dataframe tbody tr th {\n        vertical-align: top;\n    }\n\n    .dataframe thead th {\n        text-align: right;\n    }\n</style>\n<table border=\"1\" class=\"dataframe\">\n  <thead>\n    <tr style=\"text-align: right;\">\n      <th></th>\n      <th>Cholesterol_0</th>\n      <th>Cholesterol_1</th>\n      <th>Cholesterol_2</th>\n      <th>Heart Rate_0</th>\n      <th>Heart Rate_1</th>\n      <th>Heart Rate_2</th>\n      <th>Diet_0</th>\n      <th>Diet_1</th>\n      <th>Diet_2</th>\n      <th>Income_0</th>\n      <th>...</th>\n      <th>Income_3</th>\n      <th>Income_4</th>\n      <th>BMI_0</th>\n      <th>BMI_1</th>\n      <th>BMI_2</th>\n      <th>BMI_3</th>\n      <th>BMI_4</th>\n      <th>Triglycerides_0</th>\n      <th>Triglycerides_1</th>\n      <th>Triglycerides_2</th>\n    </tr>\n  </thead>\n  <tbody>\n    <tr>\n      <th>0</th>\n      <td>0.0</td>\n      <td>1.0</td>\n      <td>0.0</td>\n      <td>0.0</td>\n      <td>1.0</td>\n      <td>0.0</td>\n      <td>0.0</td>\n      <td>1.0</td>\n      <td>0.0</td>\n      <td>0.0</td>\n      <td>...</td>\n      <td>0.0</td>\n      <td>1.0</td>\n      <td>0.0</td>\n      <td>0.0</td>\n      <td>0.0</td>\n      <td>1.0</td>\n      <td>0.0</td>\n      <td>0.0</td>\n      <td>0.0</td>\n      <td>1.0</td>\n    </tr>\n    <tr>\n      <th>1</th>\n      <td>0.0</td>\n      <td>0.0</td>\n      <td>1.0</td>\n      <td>0.0</td>\n      <td>1.0</td>\n      <td>0.0</td>\n      <td>1.0</td>\n      <td>0.0</td>\n      <td>0.0</td>\n      <td>0.0</td>\n      <td>...</td>\n      <td>0.0</td>\n      <td>1.0</td>\n      <td>0.0</td>\n      <td>0.0</td>\n      <td>1.0</td>\n      <td>0.0</td>\n      <td>0.0</td>\n      <td>0.0</td>\n      <td>0.0</td>\n      <td>1.0</td>\n    </tr>\n    <tr>\n      <th>2</th>\n      <td>0.0</td>\n      <td>0.0</td>\n      <td>1.0</td>\n      <td>0.0</td>\n      <td>1.0</td>\n      <td>0.0</td>\n      <td>0.0</td>\n      <td>0.0</td>\n      <td>1.0</td>\n      <td>0.0</td>\n      <td>...</td>\n      <td>0.0</td>\n      <td>1.0</td>\n      <td>0.0</td>\n      <td>0.0</td>\n      <td>1.0</td>\n      <td>0.0</td>\n      <td>0.0</td>\n      <td>0.0</td>\n      <td>0.0</td>\n      <td>1.0</td>\n    </tr>\n    <tr>\n      <th>3</th>\n      <td>0.0</td>\n      <td>0.0</td>\n      <td>1.0</td>\n      <td>0.0</td>\n      <td>1.0</td>\n      <td>0.0</td>\n      <td>0.0</td>\n      <td>1.0</td>\n      <td>0.0</td>\n      <td>0.0</td>\n      <td>...</td>\n      <td>1.0</td>\n      <td>0.0</td>\n      <td>0.0</td>\n      <td>0.0</td>\n      <td>0.0</td>\n      <td>1.0</td>\n      <td>0.0</td>\n      <td>0.0</td>\n      <td>0.0</td>\n      <td>1.0</td>\n    </tr>\n    <tr>\n      <th>4</th>\n      <td>0.0</td>\n      <td>0.0</td>\n      <td>1.0</td>\n      <td>0.0</td>\n      <td>1.0</td>\n      <td>0.0</td>\n      <td>1.0</td>\n      <td>0.0</td>\n      <td>0.0</td>\n      <td>0.0</td>\n      <td>...</td>\n      <td>0.0</td>\n      <td>1.0</td>\n      <td>0.0</td>\n      <td>1.0</td>\n      <td>0.0</td>\n      <td>0.0</td>\n      <td>0.0</td>\n      <td>0.0</td>\n      <td>0.0</td>\n      <td>1.0</td>\n    </tr>\n    <tr>\n      <th>...</th>\n      <td>...</td>\n      <td>...</td>\n      <td>...</td>\n      <td>...</td>\n      <td>...</td>\n      <td>...</td>\n      <td>...</td>\n      <td>...</td>\n      <td>...</td>\n      <td>...</td>\n      <td>...</td>\n      <td>...</td>\n      <td>...</td>\n      <td>...</td>\n      <td>...</td>\n      <td>...</td>\n      <td>...</td>\n      <td>...</td>\n      <td>...</td>\n      <td>...</td>\n      <td>...</td>\n    </tr>\n    <tr>\n      <th>8758</th>\n      <td>1.0</td>\n      <td>0.0</td>\n      <td>0.0</td>\n      <td>0.0</td>\n      <td>1.0</td>\n      <td>0.0</td>\n      <td>0.0</td>\n      <td>0.0</td>\n      <td>1.0</td>\n      <td>0.0</td>\n      <td>...</td>\n      <td>0.0</td>\n      <td>1.0</td>\n      <td>0.0</td>\n      <td>1.0</td>\n      <td>0.0</td>\n      <td>0.0</td>\n      <td>0.0</td>\n      <td>1.0</td>\n      <td>0.0</td>\n      <td>0.0</td>\n    </tr>\n    <tr>\n      <th>8759</th>\n      <td>1.0</td>\n      <td>0.0</td>\n      <td>0.0</td>\n      <td>0.0</td>\n      <td>1.0</td>\n      <td>0.0</td>\n      <td>0.0</td>\n      <td>0.0</td>\n      <td>1.0</td>\n      <td>0.0</td>\n      <td>...</td>\n      <td>0.0</td>\n      <td>1.0</td>\n      <td>0.0</td>\n      <td>1.0</td>\n      <td>0.0</td>\n      <td>0.0</td>\n      <td>0.0</td>\n      <td>0.0</td>\n      <td>0.0</td>\n      <td>1.0</td>\n    </tr>\n    <tr>\n      <th>8760</th>\n      <td>0.0</td>\n      <td>0.0</td>\n      <td>1.0</td>\n      <td>0.0</td>\n      <td>0.0</td>\n      <td>1.0</td>\n      <td>0.0</td>\n      <td>1.0</td>\n      <td>0.0</td>\n      <td>0.0</td>\n      <td>...</td>\n      <td>0.0</td>\n      <td>0.0</td>\n      <td>0.0</td>\n      <td>0.0</td>\n      <td>0.0</td>\n      <td>1.0</td>\n      <td>0.0</td>\n      <td>0.0</td>\n      <td>0.0</td>\n      <td>1.0</td>\n    </tr>\n    <tr>\n      <th>8761</th>\n      <td>1.0</td>\n      <td>0.0</td>\n      <td>0.0</td>\n      <td>0.0</td>\n      <td>1.0</td>\n      <td>0.0</td>\n      <td>1.0</td>\n      <td>0.0</td>\n      <td>0.0</td>\n      <td>0.0</td>\n      <td>...</td>\n      <td>0.0</td>\n      <td>1.0</td>\n      <td>0.0</td>\n      <td>0.0</td>\n      <td>1.0</td>\n      <td>0.0</td>\n      <td>0.0</td>\n      <td>1.0</td>\n      <td>0.0</td>\n      <td>0.0</td>\n    </tr>\n    <tr>\n      <th>8762</th>\n      <td>0.0</td>\n      <td>0.0</td>\n      <td>1.0</td>\n      <td>0.0</td>\n      <td>1.0</td>\n      <td>0.0</td>\n      <td>0.0</td>\n      <td>0.0</td>\n      <td>1.0</td>\n      <td>0.0</td>\n      <td>...</td>\n      <td>0.0</td>\n      <td>1.0</td>\n      <td>0.0</td>\n      <td>0.0</td>\n      <td>0.0</td>\n      <td>1.0</td>\n      <td>0.0</td>\n      <td>0.0</td>\n      <td>1.0</td>\n      <td>0.0</td>\n    </tr>\n  </tbody>\n</table>\n<p>8763 rows × 22 columns</p>\n</div>"
     },
     "execution_count": 52,
     "metadata": {},
     "output_type": "execute_result"
    }
   ],
   "source": [
    "#Onehot encode transform Cholesterol, Hypertension, Heart Rate, Diet, Income, BMI, Triglycerides, \n",
    "from sklearn.preprocessing import OneHotEncoder\n",
    "ohe = OneHotEncoder(handle_unknown=\"ignore\", sparse_output=False).set_output(transform=\"pandas\")\n",
    "ohetransform = ohe.fit_transform(df[['Cholesterol', 'Heart Rate', 'Diet', 'Income', 'BMI', 'Triglycerides']])\n",
    "\n",
    "ohetransform"
   ],
   "metadata": {
    "collapsed": false,
    "ExecuteTime": {
     "end_time": "2023-11-01T05:17:22.314542200Z",
     "start_time": "2023-11-01T05:17:22.274517Z"
    }
   },
   "id": "5ff0eacaa0726218"
  },
  {
   "cell_type": "code",
   "execution_count": 53,
   "outputs": [],
   "source": [
    "df = pd.concat([df, ohetransform], axis=1).drop(columns=['Cholesterol', 'Hypertension', 'Heart Rate', 'Diet', 'Income', 'BMI', 'Triglycerides'])"
   ],
   "metadata": {
    "collapsed": false,
    "ExecuteTime": {
     "end_time": "2023-11-01T05:17:22.379549Z",
     "start_time": "2023-11-01T05:17:22.304514700Z"
    }
   },
   "id": "4eedcc0426a6d0c5"
  },
  {
   "cell_type": "code",
   "execution_count": 54,
   "outputs": [
    {
     "name": "stdout",
     "output_type": "stream",
     "text": [
      "Cholesterol_2  Heart Attack Risk\n",
      "1.0            0                    0.366313\n",
      "0.0            0                    0.275476\n",
      "1.0            1                    0.210430\n",
      "0.0            1                    0.147780\n",
      "Name: proportion, dtype: float64\n"
     ]
    },
    {
     "data": {
      "text/plain": "<Figure size 500x500 with 1 Axes>",
      "image/png": "[encoded data removed]"
     },
     "metadata": {},
     "output_type": "display_data"
    }
   ],
   "source": [
    "\n",
    "x_input = \"Cholesterol_2\"\n",
    "\n",
    "df2 = df[[x_input, y_input]].copy()\n",
    "catplot = sns.catplot(data=df, x=x_input, y=y_input, kind=\"bar\")\n",
    "print(df2.value_counts(normalize=True))\n"
   ],
   "metadata": {
    "collapsed": false,
    "ExecuteTime": {
     "end_time": "2023-11-01T05:17:22.523239Z",
     "start_time": "2023-11-01T05:17:22.320533600Z"
    }
   },
   "id": "e53e3df61b5b219e"
  },
  {
   "cell_type": "code",
   "execution_count": 55,
   "outputs": [
    {
     "data": {
      "text/plain": "  Patient ID  Age  Sex  Cholesterol  Hypertension  Heart Rate  Diabetes  \\\n0    BMW7812    1    1            1             1           1         0   \n1    CZE1114    0    1            2             1           1         1   \n2    BNI9906    0    0            2             1           1         1   \n3    JLN3497    1    1            2             1           1         1   \n4    GFO8847    1    1            2             0           1         1   \n\n   Family History  Smoking  Alcohol Consumption  Exercise Hours Per Week  \\\n0               0        1                    0                        1   \n1               1        1                    1                        0   \n2               0        0                    0                        0   \n3               1        1                    1                        1   \n4               1        1                    0                        1   \n\n   Diet  Previous Heart Problems  Stress Level  Income  BMI  Triglycerides  \\\n0     1                        0             1       4    3              2   \n1     0                        1             0       4    2              2   \n2     2                        1             1       4    2              2   \n3     1                        1             1       3    3              2   \n4     0                        1             1       4    1              2   \n\n   Physical Activity Days Per Week  Sleep Hours Per Day  Heart Attack Risk  \n0                                0                    0                  0  \n1                                0                    1                  0  \n2                                0                    0                  0  \n3                                0                    0                  0  \n4                                0                    0                  0  ",
      "text/html": "<div>\n<style scoped>\n    .dataframe tbody tr th:only-of-type {\n        vertical-align: middle;\n    }\n\n    .dataframe tbody tr th {\n        vertical-align: top;\n    }\n\n    .dataframe thead th {\n        text-align: right;\n    }\n</style>\n<table border=\"1\" class=\"dataframe\">\n  <thead>\n    <tr style=\"text-align: right;\">\n      <th></th>\n      <th>Patient ID</th>\n      <th>Age</th>\n      <th>Sex</th>\n      <th>Cholesterol</th>\n      <th>Hypertension</th>\n      <th>Heart Rate</th>\n      <th>Diabetes</th>\n      <th>Family History</th>\n      <th>Smoking</th>\n      <th>Alcohol Consumption</th>\n      <th>Exercise Hours Per Week</th>\n      <th>Diet</th>\n      <th>Previous Heart Problems</th>\n      <th>Stress Level</th>\n      <th>Income</th>\n      <th>BMI</th>\n      <th>Triglycerides</th>\n      <th>Physical Activity Days Per Week</th>\n      <th>Sleep Hours Per Day</th>\n      <th>Heart Attack Risk</th>\n    </tr>\n  </thead>\n  <tbody>\n    <tr>\n      <th>0</th>\n      <td>BMW7812</td>\n      <td>1</td>\n      <td>1</td>\n      <td>1</td>\n      <td>1</td>\n      <td>1</td>\n      <td>0</td>\n      <td>0</td>\n      <td>1</td>\n      <td>0</td>\n      <td>1</td>\n      <td>1</td>\n      <td>0</td>\n      <td>1</td>\n      <td>4</td>\n      <td>3</td>\n      <td>2</td>\n      <td>0</td>\n      <td>0</td>\n      <td>0</td>\n    </tr>\n    <tr>\n      <th>1</th>\n      <td>CZE1114</td>\n      <td>0</td>\n      <td>1</td>\n      <td>2</td>\n      <td>1</td>\n      <td>1</td>\n      <td>1</td>\n      <td>1</td>\n      <td>1</td>\n      <td>1</td>\n      <td>0</td>\n      <td>0</td>\n      <td>1</td>\n      <td>0</td>\n      <td>4</td>\n      <td>2</td>\n      <td>2</td>\n      <td>0</td>\n      <td>1</td>\n      <td>0</td>\n    </tr>\n    <tr>\n      <th>2</th>\n      <td>BNI9906</td>\n      <td>0</td>\n      <td>0</td>\n      <td>2</td>\n      <td>1</td>\n      <td>1</td>\n      <td>1</td>\n      <td>0</td>\n      <td>0</td>\n      <td>0</td>\n      <td>0</td>\n      <td>2</td>\n      <td>1</td>\n      <td>1</td>\n      <td>4</td>\n      <td>2</td>\n      <td>2</td>\n      <td>0</td>\n      <td>0</td>\n      <td>0</td>\n    </tr>\n    <tr>\n      <th>3</th>\n      <td>JLN3497</td>\n      <td>1</td>\n      <td>1</td>\n      <td>2</td>\n      <td>1</td>\n      <td>1</td>\n      <td>1</td>\n      <td>1</td>\n      <td>1</td>\n      <td>1</td>\n      <td>1</td>\n      <td>1</td>\n      <td>1</td>\n      <td>1</td>\n      <td>3</td>\n      <td>3</td>\n      <td>2</td>\n      <td>0</td>\n      <td>0</td>\n      <td>0</td>\n    </tr>\n    <tr>\n      <th>4</th>\n      <td>GFO8847</td>\n      <td>1</td>\n      <td>1</td>\n      <td>2</td>\n      <td>0</td>\n      <td>1</td>\n      <td>1</td>\n      <td>1</td>\n      <td>1</td>\n      <td>0</td>\n      <td>1</td>\n      <td>0</td>\n      <td>1</td>\n      <td>1</td>\n      <td>4</td>\n      <td>1</td>\n      <td>2</td>\n      <td>0</td>\n      <td>0</td>\n      <td>0</td>\n    </tr>\n  </tbody>\n</table>\n</div>"
     },
     "execution_count": 55,
     "metadata": {},
     "output_type": "execute_result"
    }
   ],
   "source": [
    "#Use LR model to predict new data point\n",
    "heart = pd.read_csv(\"heart_risk_cleaned.csv\")\n",
    "heart.head()"
   ],
   "metadata": {
    "collapsed": false,
    "ExecuteTime": {
     "end_time": "2023-11-01T05:17:22.590238700Z",
     "start_time": "2023-11-01T05:17:22.525240400Z"
    }
   },
   "id": "c25bfad45b4a9aaa"
  },
  {
   "cell_type": "code",
   "execution_count": 56,
   "outputs": [
    {
     "data": {
      "text/plain": "  Patient ID  Age  Sex  Hypertension  Diabetes  Family History  Smoking  \\\n0    BMW7812    1    1             1         0               0        1   \n1    CZE1114    0    1             1         1               1        1   \n2    BNI9906    0    0             1         1               0        0   \n3    JLN3497    1    1             1         1               1        1   \n4    GFO8847    1    1             0         1               1        1   \n\n   Alcohol Consumption  Exercise Hours Per Week  Previous Heart Problems  ...  \\\n0                    0                        1                        0  ...   \n1                    1                        0                        1  ...   \n2                    0                        0                        1  ...   \n3                    1                        1                        1  ...   \n4                    0                        1                        1  ...   \n\n   Income_4  BMI_0  BMI_1  BMI_2  BMI_3  BMI_4  Triglycerides_0  \\\n0       1.0    0.0    0.0    0.0    1.0    0.0              0.0   \n1       1.0    0.0    0.0    1.0    0.0    0.0              0.0   \n2       1.0    0.0    0.0    1.0    0.0    0.0              0.0   \n3       0.0    0.0    0.0    0.0    1.0    0.0              0.0   \n4       1.0    0.0    1.0    0.0    0.0    0.0              0.0   \n\n   Triglycerides_1  Heart Attack Risk  Triglycerides_2  \n0              0.0                  0              1.0  \n1              0.0                  0              1.0  \n2              0.0                  0              1.0  \n3              0.0                  0              1.0  \n4              0.0                  0              1.0  \n\n[5 rows x 36 columns]",
      "text/html": "<div>\n<style scoped>\n    .dataframe tbody tr th:only-of-type {\n        vertical-align: middle;\n    }\n\n    .dataframe tbody tr th {\n        vertical-align: top;\n    }\n\n    .dataframe thead th {\n        text-align: right;\n    }\n</style>\n<table border=\"1\" class=\"dataframe\">\n  <thead>\n    <tr style=\"text-align: right;\">\n      <th></th>\n      <th>Patient ID</th>\n      <th>Age</th>\n      <th>Sex</th>\n      <th>Hypertension</th>\n      <th>Diabetes</th>\n      <th>Family History</th>\n      <th>Smoking</th>\n      <th>Alcohol Consumption</th>\n      <th>Exercise Hours Per Week</th>\n      <th>Previous Heart Problems</th>\n      <th>...</th>\n      <th>Income_4</th>\n      <th>BMI_0</th>\n      <th>BMI_1</th>\n      <th>BMI_2</th>\n      <th>BMI_3</th>\n      <th>BMI_4</th>\n      <th>Triglycerides_0</th>\n      <th>Triglycerides_1</th>\n      <th>Heart Attack Risk</th>\n      <th>Triglycerides_2</th>\n    </tr>\n  </thead>\n  <tbody>\n    <tr>\n      <th>0</th>\n      <td>BMW7812</td>\n      <td>1</td>\n      <td>1</td>\n      <td>1</td>\n      <td>0</td>\n      <td>0</td>\n      <td>1</td>\n      <td>0</td>\n      <td>1</td>\n      <td>0</td>\n      <td>...</td>\n      <td>1.0</td>\n      <td>0.0</td>\n      <td>0.0</td>\n      <td>0.0</td>\n      <td>1.0</td>\n      <td>0.0</td>\n      <td>0.0</td>\n      <td>0.0</td>\n      <td>0</td>\n      <td>1.0</td>\n    </tr>\n    <tr>\n      <th>1</th>\n      <td>CZE1114</td>\n      <td>0</td>\n      <td>1</td>\n      <td>1</td>\n      <td>1</td>\n      <td>1</td>\n      <td>1</td>\n      <td>1</td>\n      <td>0</td>\n      <td>1</td>\n      <td>...</td>\n      <td>1.0</td>\n      <td>0.0</td>\n      <td>0.0</td>\n      <td>1.0</td>\n      <td>0.0</td>\n      <td>0.0</td>\n      <td>0.0</td>\n      <td>0.0</td>\n      <td>0</td>\n      <td>1.0</td>\n    </tr>\n    <tr>\n      <th>2</th>\n      <td>BNI9906</td>\n      <td>0</td>\n      <td>0</td>\n      <td>1</td>\n      <td>1</td>\n      <td>0</td>\n      <td>0</td>\n      <td>0</td>\n      <td>0</td>\n      <td>1</td>\n      <td>...</td>\n      <td>1.0</td>\n      <td>0.0</td>\n      <td>0.0</td>\n      <td>1.0</td>\n      <td>0.0</td>\n      <td>0.0</td>\n      <td>0.0</td>\n      <td>0.0</td>\n      <td>0</td>\n      <td>1.0</td>\n    </tr>\n    <tr>\n      <th>3</th>\n      <td>JLN3497</td>\n      <td>1</td>\n      <td>1</td>\n      <td>1</td>\n      <td>1</td>\n      <td>1</td>\n      <td>1</td>\n      <td>1</td>\n      <td>1</td>\n      <td>1</td>\n      <td>...</td>\n      <td>0.0</td>\n      <td>0.0</td>\n      <td>0.0</td>\n      <td>0.0</td>\n      <td>1.0</td>\n      <td>0.0</td>\n      <td>0.0</td>\n      <td>0.0</td>\n      <td>0</td>\n      <td>1.0</td>\n    </tr>\n    <tr>\n      <th>4</th>\n      <td>GFO8847</td>\n      <td>1</td>\n      <td>1</td>\n      <td>0</td>\n      <td>1</td>\n      <td>1</td>\n      <td>1</td>\n      <td>0</td>\n      <td>1</td>\n      <td>1</td>\n      <td>...</td>\n      <td>1.0</td>\n      <td>0.0</td>\n      <td>1.0</td>\n      <td>0.0</td>\n      <td>0.0</td>\n      <td>0.0</td>\n      <td>0.0</td>\n      <td>0.0</td>\n      <td>0</td>\n      <td>1.0</td>\n    </tr>\n  </tbody>\n</table>\n<p>5 rows × 36 columns</p>\n</div>"
     },
     "execution_count": 56,
     "metadata": {},
     "output_type": "execute_result"
    }
   ],
   "source": [
    "#create and train model with previously tuned hyperparameters\n",
    "LRclass = LogisticRegression()\n",
    "heart = pd.read_csv(\"heart_risk_cleaned.csv\")\n",
    "from sklearn.preprocessing import OneHotEncoder\n",
    "ohe = OneHotEncoder(handle_unknown=\"ignore\", sparse_output=False).set_output(transform=\"pandas\")\n",
    "ohetransform = ohe.fit_transform(heart[['Cholesterol', 'Heart Rate', 'Diet', 'Income', 'BMI', 'Triglycerides']])\n",
    "\n",
    "heart = pd.concat([heart, ohetransform], axis=1).drop(columns=['Cholesterol', 'Heart Rate', 'Diet', 'Income', 'BMI', 'Triglycerides'])\n",
    "heart.insert(35, \"Heart Attack Risk\", heart.pop(\"Heart Attack Risk\"))\n",
    "\n",
    "\n",
    "heart_feat = heart.iloc[:, 1:35] #split into features, the things we want to input\n",
    "\n",
    "heart_targ = heart.iloc[:, 35] # split into target, this is the thing we are looking to check given all inputs\n",
    "\n",
    "LRclass.fit(heart_feat, heart_targ)\n",
    "y_preds = LRclass.predict(heart_feat)\n",
    "np.mean(y_preds == heart_targ)\n",
    "heart.head()"
   ],
   "metadata": {
    "collapsed": false,
    "ExecuteTime": {
     "end_time": "2023-11-01T05:17:22.668081300Z",
     "start_time": "2023-11-01T05:17:22.557248800Z"
    }
   },
   "id": "77b955acc0579747"
  },
  {
   "cell_type": "code",
   "execution_count": 57,
   "outputs": [],
   "source": [
    "#add values for the new record you want a prediction on\n",
    "patient_id = \"\" #not required but needed to fill the variables\n",
    "\n",
    "age = 0 # 0 if 18-64 years, 1 if 65+\n",
    "\n",
    "sex = 0 # 0 if Female or 1 if Male\n",
    "\n",
    "hypertension = 0 # If diastolic is >90 or systolic is >140 when diastolic is <90 will be 1, else 0\n",
    "\n",
    "diabetes = 0 # 0 if no diabetes or 1 if any type present\n",
    "\n",
    "family_history = 0 # 0 if no family history of heart attack or 1 if present\n",
    "\n",
    "smoking = 0 # 0 if no smoking history or 1 if present\n",
    "\n",
    "alcohol = 0 # 0 if no alcohol history or 1 if present\n",
    "\n",
    "exercise_hr_per_week = 0 # 0 if less than 2.5 hours or 150 minutes per week, or 1 if at/over\n",
    "\n",
    "previous_heart_problem = 0 #  1 if other heart problems not discussed here, 0 if none\n",
    "\n",
    "stress_level = 0 # if greater than 4 on scale of 10, will be 1, if 4 or less, will be 0.\n",
    "\n",
    "activity_days_per_week = 0 # If less than 5 days of exercise per week, 0, if 5 or more, 1.\n",
    "\n",
    "sleep_hours = 0 # If 7 or more hours per night, 1, if less than 7, 0.\n",
    "\n",
    "\n",
    "#NOTE: For each group below, only one per group should be 1, all others should be 0. Only mark 1 on the active category.\n",
    "cholesterol_0 = 0 # 200 or less is normal\n",
    "cholesterol_1 = 0 # 200-239 is borderline high\n",
    "cholesterol_2 = 0 # 240 or higher is high\n",
    "\n",
    "heart_rate_0 = 0 # Below 60 in non-athlete could be considered bradycardia\n",
    "heart_rate_1 = 0 # 60-100 is normal\n",
    "heart_rate_2 = 0 # Over 100 could be considered tachycardia\n",
    "\n",
    "diet_0 = 0 # 1 if diet is generally unhealthy, as described by patient\n",
    "diet_1 = 0 # 1 if diet is average, as described by patient\n",
    "diet_2 = 0 # 2 if diet is healthy, as described by patient\n",
    "\n",
    "income_0 = 0 # less than $28,007 annual income is considered lower class\n",
    "income_1 = 0 # 28,008-55,000 lower-middle\n",
    "income_2 = 0 # 55,001-89,744 middle\n",
    "income_3 = 0 # 89,745-149,131 upper-middle\n",
    "income_4 = 0 # >149,132 upper\n",
    "\n",
    "BMI_0 = 0 # 18.5 or below is underweight\n",
    "BMI_1 = 0 # 18.5-24.9 is healthy\n",
    "BMI_2 = 0 # 25-29.9 is overweight\n",
    "BMI_3 = 0 # 30-39.9 is obese\n",
    "BMI_4 = 0 # 40 or greater is severely obese\n",
    "\n",
    "triglycerides_0 = 0 # 150 or below healthy\n",
    "triglycerides_1 = 0 # 150-199 is borderline high\n",
    "triglycerides_2 = 0 # 200-499 is high\n",
    "\n",
    "\n",
    "new_record = np.array([age, sex,  hypertension, diabetes, family_history, smoking, alcohol, exercise_hr_per_week,  previous_heart_problem, stress_level,  activity_days_per_week, sleep_hours, cholesterol_0, cholesterol_1, cholesterol_2, heart_rate_0, heart_rate_1, heart_rate_2, diet_0, diet_1, diet_2, income_0, income_1,income_2, income_3, income_4, BMI_0, BMI_1, BMI_2, BMI_3, BMI_4, triglycerides_0, triglycerides_1, triglycerides_2,])"
   ],
   "metadata": {
    "collapsed": false,
    "ExecuteTime": {
     "end_time": "2023-11-01T05:17:22.673081Z",
     "start_time": "2023-11-01T05:17:22.634356200Z"
    }
   },
   "id": "6c82352114895012"
  },
  {
   "cell_type": "code",
   "execution_count": 58,
   "outputs": [
    {
     "name": "stderr",
     "output_type": "stream",
     "text": [
      "C:\\Users\\aljo9\\PycharmProjects\\ML_Project\\venv\\lib\\site-packages\\sklearn\\base.py:465: UserWarning: X does not have valid feature names, but LogisticRegression was fitted with feature names\n",
      "  warnings.warn(\n"
     ]
    },
    {
     "data": {
      "text/plain": "array([1.])"
     },
     "execution_count": 58,
     "metadata": {},
     "output_type": "execute_result"
    }
   ],
   "source": [
    "#Make prediction on new record with trained model\n",
    "LRclass.predict(new_record.reshape(1, -1))"
   ],
   "metadata": {
    "collapsed": false,
    "ExecuteTime": {
     "end_time": "2023-11-01T05:17:22.673081Z",
     "start_time": "2023-11-01T05:17:22.646597100Z"
    }
   },
   "id": "b7f8b923a6960013"
  },
  {
   "cell_type": "code",
   "execution_count": 58,
   "outputs": [],
   "source": [],
   "metadata": {
    "collapsed": false,
    "ExecuteTime": {
     "end_time": "2023-11-01T05:17:22.722399800Z",
     "start_time": "2023-11-01T05:17:22.663598900Z"
    }
   },
   "id": "8e5838a1e88b767b"
  }
 ],
 "metadata": {
  "kernelspec": {
   "display_name": "Python 3",
   "language": "python",
   "name": "python3"
  },
  "language_info": {
   "codemirror_mode": {
    "name": "ipython",
    "version": 2
   },
   "file_extension": ".py",
   "mimetype": "text/x-python",
   "name": "python",
   "nbconvert_exporter": "python",
   "pygments_lexer": "ipython2",
   "version": "2.7.6"
  }
 },
 "nbformat": 4,
 "nbformat_minor": 5
}
